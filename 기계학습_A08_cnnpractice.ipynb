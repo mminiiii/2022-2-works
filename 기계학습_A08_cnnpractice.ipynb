{
  "cells": [
    {
      "cell_type": "markdown",
      "metadata": {
        "id": "WvMQYtbR-xqK"
      },
      "source": [
        "# Simple Deep Learning Classification Practice"
      ]
    },
    {
      "cell_type": "markdown",
      "metadata": {
        "id": "Z6XEyLYl-3ZT"
      },
      "source": [
        "#### 1. Load Dataset\n",
        "* 데이터셋을 전처리하세요."
      ]
    },
    {
      "cell_type": "code",
      "source": [
        "import numpy as np\n",
        "import pandas as pd\n",
        "from PIL import Image\n",
        "from glob import glob\n",
        "import os\n",
        "import tensorflow as tf\n",
        "import matplotlib.pyplot as plt\n",
        "import random"
      ],
      "metadata": {
        "id": "tGhIp8cd4pOn"
      },
      "execution_count": null,
      "outputs": []
    },
    {
      "cell_type": "code",
      "execution_count": null,
      "metadata": {
        "id": "05KeUS3eUTt1",
        "colab": {
          "base_uri": "https://localhost:8080/"
        },
        "outputId": "5dc3c97d-686e-4293-e5ca-ab4c5a1740a4"
      },
      "outputs": [
        {
          "output_type": "stream",
          "name": "stdout",
          "text": [
            "Archive:  archive-2.zip\n",
            "  inflating: seven_plastics/1_polyethylene_PET/85943598-ec9b-4da5-9221-8c32b5742e72.jpg  \n",
            "  inflating: seven_plastics/1_polyethylene_PET/AORA7148.jpg  \n",
            "  inflating: seven_plastics/1_polyethylene_PET/BBOZ2526.jpg  \n",
            "  inflating: seven_plastics/1_polyethylene_PET/BIGI9753.jpg  \n",
            "  inflating: seven_plastics/1_polyethylene_PET/FQCK7421.jpg  \n",
            "  inflating: seven_plastics/1_polyethylene_PET/HSBT4561.jpg  \n",
            "  inflating: seven_plastics/1_polyethylene_PET/IMG_6263.jpg  \n",
            "  inflating: seven_plastics/1_polyethylene_PET/IMG_6268.jpg  \n",
            "  inflating: seven_plastics/1_polyethylene_PET/IMG_6269.jpg  \n",
            "  inflating: seven_plastics/1_polyethylene_PET/IMG_6271.jpg  \n",
            "  inflating: seven_plastics/1_polyethylene_PET/IMG_6272.jpg  \n",
            "  inflating: seven_plastics/1_polyethylene_PET/IMG_6308.jpg  \n",
            "  inflating: seven_plastics/1_polyethylene_PET/IMG_6328.jpg  \n",
            "  inflating: seven_plastics/1_polyethylene_PET/IMG_6336.jpg  \n",
            "  inflating: seven_plastics/1_polyethylene_PET/IMG_63452.jpg  \n",
            "  inflating: seven_plastics/1_polyethylene_PET/IMG_6359.jpg  \n",
            "  inflating: seven_plastics/1_polyethylene_PET/IMG_6360.jpg  \n",
            "  inflating: seven_plastics/1_polyethylene_PET/IMG_6361.jpg  \n",
            "  inflating: seven_plastics/1_polyethylene_PET/IMG_6362.jpg  \n",
            "  inflating: seven_plastics/1_polyethylene_PET/IMG_6364.jpg  \n",
            "  inflating: seven_plastics/1_polyethylene_PET/IMG_6367.jpg  \n",
            "  inflating: seven_plastics/1_polyethylene_PET/IMG_6368.jpg  \n",
            "  inflating: seven_plastics/1_polyethylene_PET/IMG_6371.jpg  \n",
            "  inflating: seven_plastics/1_polyethylene_PET/IMG_6398.jpg  \n",
            "  inflating: seven_plastics/1_polyethylene_PET/IMG_6399.jpg  \n",
            "  inflating: seven_plastics/1_polyethylene_PET/IMG_6402.jpg  \n",
            "  inflating: seven_plastics/1_polyethylene_PET/IMG_6403.jpg  \n",
            "  inflating: seven_plastics/1_polyethylene_PET/IMG_6404.jpg  \n",
            "  inflating: seven_plastics/1_polyethylene_PET/IMG_6415.jpg  \n",
            "  inflating: seven_plastics/1_polyethylene_PET/IMG_6446.jpg  \n",
            "  inflating: seven_plastics/1_polyethylene_PET/IMG_6482.jpg  \n",
            "  inflating: seven_plastics/1_polyethylene_PET/IMG_6497.jpg  \n",
            "  inflating: seven_plastics/1_polyethylene_PET/IMG_6527.jpg  \n",
            "  inflating: seven_plastics/1_polyethylene_PET/IMG_6528.jpg  \n",
            "  inflating: seven_plastics/1_polyethylene_PET/IMG_6534.jpg  \n",
            "  inflating: seven_plastics/1_polyethylene_PET/IMG_6538.jpg  \n",
            "  inflating: seven_plastics/1_polyethylene_PET/IMG_6539.jpg  \n",
            "  inflating: seven_plastics/1_polyethylene_PET/IMG_6556.jpg  \n",
            "  inflating: seven_plastics/1_polyethylene_PET/IMG_6575.jpg  \n",
            "  inflating: seven_plastics/1_polyethylene_PET/IMG_6603.jpg  \n",
            "  inflating: seven_plastics/1_polyethylene_PET/IMG_6604.jpg  \n",
            "  inflating: seven_plastics/1_polyethylene_PET/IMG_6605.jpg  \n",
            "  inflating: seven_plastics/1_polyethylene_PET/IMG_6607.jpg  \n",
            "  inflating: seven_plastics/1_polyethylene_PET/IMG_6615.jpg  \n",
            "  inflating: seven_plastics/1_polyethylene_PET/IMG_6626.jpg  \n",
            "  inflating: seven_plastics/1_polyethylene_PET/IMG_6716.jpg  \n",
            "  inflating: seven_plastics/1_polyethylene_PET/IMG_6718.jpg  \n",
            "  inflating: seven_plastics/1_polyethylene_PET/IMG_6726.jpg  \n",
            "  inflating: seven_plastics/1_polyethylene_PET/IMG_6728.jpg  \n",
            "  inflating: seven_plastics/1_polyethylene_PET/IMG_6733.jpg  \n",
            "  inflating: seven_plastics/1_polyethylene_PET/IMG_6743.jpg  \n",
            "  inflating: seven_plastics/1_polyethylene_PET/IMG_6745.jpg  \n",
            "  inflating: seven_plastics/1_polyethylene_PET/IMG_6749.jpg  \n",
            "  inflating: seven_plastics/1_polyethylene_PET/IMG_6751.jpg  \n",
            "  inflating: seven_plastics/1_polyethylene_PET/IMG_6755.jpg  \n",
            "  inflating: seven_plastics/1_polyethylene_PET/IMG_6756.jpg  \n",
            "  inflating: seven_plastics/1_polyethylene_PET/IMG_6757.jpg  \n",
            "  inflating: seven_plastics/1_polyethylene_PET/IMG_6758.jpg  \n",
            "  inflating: seven_plastics/1_polyethylene_PET/IMG_6795.jpg  \n",
            "  inflating: seven_plastics/1_polyethylene_PET/IMG_6798.jpg  \n",
            "  inflating: seven_plastics/1_polyethylene_PET/IMG_6800.jpg  \n",
            "  inflating: seven_plastics/1_polyethylene_PET/IMG_6805.jpg  \n",
            "  inflating: seven_plastics/1_polyethylene_PET/IMG_6806.jpg  \n",
            "  inflating: seven_plastics/1_polyethylene_PET/IMG_6807.jpg  \n",
            "  inflating: seven_plastics/1_polyethylene_PET/IMG_6809.jpg  \n",
            "  inflating: seven_plastics/1_polyethylene_PET/IMG_6810.jpg  \n",
            "  inflating: seven_plastics/1_polyethylene_PET/IMG_6828.jpg  \n",
            "  inflating: seven_plastics/1_polyethylene_PET/IMG_6830.jpg  \n",
            "  inflating: seven_plastics/1_polyethylene_PET/IMG_6831.jpg  \n",
            "  inflating: seven_plastics/1_polyethylene_PET/IMG_6833.jpg  \n",
            "  inflating: seven_plastics/1_polyethylene_PET/IMG_6836.jpg  \n",
            "  inflating: seven_plastics/1_polyethylene_PET/IMG_6840.jpg  \n",
            "  inflating: seven_plastics/1_polyethylene_PET/IMG_6842.jpg  \n",
            "  inflating: seven_plastics/1_polyethylene_PET/IMG_6845.jpg  \n",
            "  inflating: seven_plastics/1_polyethylene_PET/IMG_6847.jpg  \n",
            "  inflating: seven_plastics/1_polyethylene_PET/IMG_6889.jpg  \n",
            "  inflating: seven_plastics/1_polyethylene_PET/IMG_6993.jpg  \n",
            "  inflating: seven_plastics/1_polyethylene_PET/IMG_6994.jpg  \n",
            "  inflating: seven_plastics/1_polyethylene_PET/IMG_7209.jpg  \n",
            "  inflating: seven_plastics/1_polyethylene_PET/IMG_7210.jpg  \n",
            "  inflating: seven_plastics/1_polyethylene_PET/IMG_7217.jpg  \n",
            "  inflating: seven_plastics/1_polyethylene_PET/IMG_7218.jpg  \n",
            "  inflating: seven_plastics/1_polyethylene_PET/IMG_7220.jpg  \n",
            "  inflating: seven_plastics/1_polyethylene_PET/IMG_7222.jpg  \n",
            "  inflating: seven_plastics/1_polyethylene_PET/IMG_7224.jpg  \n",
            "  inflating: seven_plastics/1_polyethylene_PET/IMG_7231.jpg  \n",
            "  inflating: seven_plastics/1_polyethylene_PET/IMG_7235.jpg  \n",
            "  inflating: seven_plastics/1_polyethylene_PET/IMG_7241.jpg  \n",
            "  inflating: seven_plastics/1_polyethylene_PET/IMG_7245.jpg  \n",
            "  inflating: seven_plastics/1_polyethylene_PET/IMG_7247.jpg  \n",
            "  inflating: seven_plastics/1_polyethylene_PET/IMG_7248.jpg  \n",
            "  inflating: seven_plastics/1_polyethylene_PET/IMG_7249.jpg  \n",
            "  inflating: seven_plastics/1_polyethylene_PET/IMG_7264.jpg  \n",
            "  inflating: seven_plastics/1_polyethylene_PET/IMG_9447.jpg  \n",
            "  inflating: seven_plastics/1_polyethylene_PET/IMG_9621.jpg  \n",
            "  inflating: seven_plastics/1_polyethylene_PET/IMG_9705.jpg  \n",
            "  inflating: seven_plastics/1_polyethylene_PET/IMG_9708.jpg  \n",
            "  inflating: seven_plastics/1_polyethylene_PET/IMG_9740.jpg  \n",
            "  inflating: seven_plastics/1_polyethylene_PET/IMG_9743.jpg  \n",
            "  inflating: seven_plastics/1_polyethylene_PET/IMG_9748.jpg  \n",
            "  inflating: seven_plastics/1_polyethylene_PET/IMG_E6415.jpg  \n",
            "  inflating: seven_plastics/1_polyethylene_PET/IMG_E6466.jpg  \n",
            "  inflating: seven_plastics/1_polyethylene_PET/IMG_E6486.jpg  \n",
            "  inflating: seven_plastics/1_polyethylene_PET/IRRB4534.jpg  \n",
            "  inflating: seven_plastics/1_polyethylene_PET/JQYE2561.jpg  \n",
            "  inflating: seven_plastics/1_polyethylene_PET/KIYA8573.jpg  \n",
            "  inflating: seven_plastics/1_polyethylene_PET/MNFK6753.jpg  \n",
            "  inflating: seven_plastics/1_polyethylene_PET/NDKM1685.jpg  \n",
            "  inflating: seven_plastics/1_polyethylene_PET/OORA5681.jpg  \n",
            "  inflating: seven_plastics/1_polyethylene_PET/PJYU0739.jpg  \n",
            "  inflating: seven_plastics/1_polyethylene_PET/PRYP7306.jpg  \n",
            "  inflating: seven_plastics/1_polyethylene_PET/QLCZ2890.jpg  \n",
            "  inflating: seven_plastics/1_polyethylene_PET/ROPL9602.jpg  \n",
            "  inflating: seven_plastics/1_polyethylene_PET/SVTL3818.jpg  \n",
            "  inflating: seven_plastics/1_polyethylene_PET/TLZO0446.jpg  \n",
            "  inflating: seven_plastics/1_polyethylene_PET/TUVX9499.jpg  \n",
            "  inflating: seven_plastics/1_polyethylene_PET/WCQL8580.jpg  \n",
            "  inflating: seven_plastics/1_polyethylene_PET/XMCR2511.jpg  \n",
            "  inflating: seven_plastics/1_polyethylene_PET/XUWM4383.jpg  \n",
            "  inflating: seven_plastics/1_polyethylene_PET/c63d677c-7b3f-46a9-b5e2-6460b5712e8c.jpg  \n",
            "  inflating: seven_plastics/1_polyethylene_PET/dede413a-bdf9-4f20-a6c0-5bdfe2a41a8c.jpg  \n",
            "  inflating: seven_plastics/2_high_density_polyethylene_PE-HD/FGMB6974.jpg  \n",
            "  inflating: seven_plastics/2_high_density_polyethylene_PE-HD/GDKA5806.jpg  \n",
            "  inflating: seven_plastics/2_high_density_polyethylene_PE-HD/IMG_6260.jpg  \n",
            "  inflating: seven_plastics/2_high_density_polyethylene_PE-HD/IMG_6261.jpg  \n",
            "  inflating: seven_plastics/2_high_density_polyethylene_PE-HD/IMG_6262.jpg  \n",
            "  inflating: seven_plastics/2_high_density_polyethylene_PE-HD/IMG_6265.jpg  \n",
            "  inflating: seven_plastics/2_high_density_polyethylene_PE-HD/IMG_6266.jpg  \n",
            "  inflating: seven_plastics/2_high_density_polyethylene_PE-HD/IMG_6327.jpg  \n",
            "  inflating: seven_plastics/2_high_density_polyethylene_PE-HD/IMG_6330.jpg  \n",
            "  inflating: seven_plastics/2_high_density_polyethylene_PE-HD/IMG_6332.jpg  \n",
            "  inflating: seven_plastics/2_high_density_polyethylene_PE-HD/IMG_6346.jpg  \n",
            "  inflating: seven_plastics/2_high_density_polyethylene_PE-HD/IMG_6365.jpg  \n",
            "  inflating: seven_plastics/2_high_density_polyethylene_PE-HD/IMG_6366.jpg  \n",
            "  inflating: seven_plastics/2_high_density_polyethylene_PE-HD/IMG_6407.jpg  \n",
            "  inflating: seven_plastics/2_high_density_polyethylene_PE-HD/IMG_6408.jpg  \n",
            "  inflating: seven_plastics/2_high_density_polyethylene_PE-HD/IMG_6409.jpg  \n",
            "  inflating: seven_plastics/2_high_density_polyethylene_PE-HD/IMG_6411.jpg  \n",
            "  inflating: seven_plastics/2_high_density_polyethylene_PE-HD/IMG_6413.jpg  \n",
            "  inflating: seven_plastics/2_high_density_polyethylene_PE-HD/IMG_6414.jpg  \n",
            "  inflating: seven_plastics/2_high_density_polyethylene_PE-HD/IMG_6419.jpg  \n",
            "  inflating: seven_plastics/2_high_density_polyethylene_PE-HD/IMG_6421.jpg  \n",
            "  inflating: seven_plastics/2_high_density_polyethylene_PE-HD/IMG_6423.jpg  \n",
            "  inflating: seven_plastics/2_high_density_polyethylene_PE-HD/IMG_6436.jpg  \n",
            "  inflating: seven_plastics/2_high_density_polyethylene_PE-HD/IMG_6546.jpg  \n",
            "  inflating: seven_plastics/2_high_density_polyethylene_PE-HD/IMG_6549.jpg  \n",
            "  inflating: seven_plastics/2_high_density_polyethylene_PE-HD/IMG_6570.jpg  \n",
            "  inflating: seven_plastics/2_high_density_polyethylene_PE-HD/IMG_6588.jpg  \n",
            "  inflating: seven_plastics/2_high_density_polyethylene_PE-HD/IMG_6591.jpg  \n",
            "  inflating: seven_plastics/2_high_density_polyethylene_PE-HD/IMG_6722.jpg  \n",
            "  inflating: seven_plastics/2_high_density_polyethylene_PE-HD/IMG_6729.jpg  \n",
            "  inflating: seven_plastics/2_high_density_polyethylene_PE-HD/IMG_6730.jpg  \n",
            "  inflating: seven_plastics/2_high_density_polyethylene_PE-HD/IMG_6731.jpg  \n",
            "  inflating: seven_plastics/2_high_density_polyethylene_PE-HD/IMG_6752.jpg  \n",
            "  inflating: seven_plastics/2_high_density_polyethylene_PE-HD/IMG_6753.jpg  \n",
            "  inflating: seven_plastics/2_high_density_polyethylene_PE-HD/IMG_6754.jpg  \n",
            "  inflating: seven_plastics/2_high_density_polyethylene_PE-HD/IMG_6760.jpg  \n",
            "  inflating: seven_plastics/2_high_density_polyethylene_PE-HD/IMG_6761.jpg  \n",
            "  inflating: seven_plastics/2_high_density_polyethylene_PE-HD/IMG_6762.jpg  \n",
            "  inflating: seven_plastics/2_high_density_polyethylene_PE-HD/IMG_6764.jpg  \n",
            "  inflating: seven_plastics/2_high_density_polyethylene_PE-HD/IMG_6824.jpg  \n",
            "  inflating: seven_plastics/2_high_density_polyethylene_PE-HD/IMG_6826.jpg  \n",
            "  inflating: seven_plastics/2_high_density_polyethylene_PE-HD/IMG_6827.jpg  \n",
            "  inflating: seven_plastics/2_high_density_polyethylene_PE-HD/IMG_6832.jpg  \n",
            "  inflating: seven_plastics/2_high_density_polyethylene_PE-HD/IMG_6839.jpg  \n",
            "  inflating: seven_plastics/2_high_density_polyethylene_PE-HD/IMG_6843.jpg  \n",
            "  inflating: seven_plastics/2_high_density_polyethylene_PE-HD/IMG_6844.jpg  \n",
            "  inflating: seven_plastics/2_high_density_polyethylene_PE-HD/IMG_7054.jpg  \n",
            "  inflating: seven_plastics/2_high_density_polyethylene_PE-HD/IMG_7165.jpg  \n",
            "  inflating: seven_plastics/2_high_density_polyethylene_PE-HD/IMG_7168.jpg  \n",
            "  inflating: seven_plastics/2_high_density_polyethylene_PE-HD/IMG_7169.jpg  \n",
            "  inflating: seven_plastics/2_high_density_polyethylene_PE-HD/IMG_7171.jpg  \n",
            "  inflating: seven_plastics/2_high_density_polyethylene_PE-HD/IMG_7172.jpg  \n",
            "  inflating: seven_plastics/2_high_density_polyethylene_PE-HD/IMG_7205.jpg  \n",
            "  inflating: seven_plastics/2_high_density_polyethylene_PE-HD/IMG_7207.jpg  \n",
            "  inflating: seven_plastics/2_high_density_polyethylene_PE-HD/IMG_7223.jpg  \n",
            "  inflating: seven_plastics/2_high_density_polyethylene_PE-HD/IMG_7246.jpg  \n",
            "  inflating: seven_plastics/2_high_density_polyethylene_PE-HD/IMG_8044.jpg  \n",
            "  inflating: seven_plastics/2_high_density_polyethylene_PE-HD/IMG_9446.jpg  \n",
            "  inflating: seven_plastics/2_high_density_polyethylene_PE-HD/IMG_9742.jpg  \n",
            "  inflating: seven_plastics/2_high_density_polyethylene_PE-HD/IMG_E6457.jpg  \n",
            "  inflating: seven_plastics/2_high_density_polyethylene_PE-HD/IMG_E6470.jpg  \n",
            "  inflating: seven_plastics/2_high_density_polyethylene_PE-HD/IMG_E6549.jpg  \n",
            "  inflating: seven_plastics/2_high_density_polyethylene_PE-HD/JOSZ8141.jpg  \n",
            "  inflating: seven_plastics/2_high_density_polyethylene_PE-HD/MCAZ7256.jpg  \n",
            "  inflating: seven_plastics/2_high_density_polyethylene_PE-HD/MHYX2578.jpg  \n",
            "  inflating: seven_plastics/2_high_density_polyethylene_PE-HD/PMVI1077.jpg  \n",
            "  inflating: seven_plastics/2_high_density_polyethylene_PE-HD/RIJB5624.jpg  \n",
            "  inflating: seven_plastics/2_high_density_polyethylene_PE-HD/RPOW9786.jpg  \n",
            "  inflating: seven_plastics/2_high_density_polyethylene_PE-HD/SDJJ3662.jpg  \n",
            "  inflating: seven_plastics/2_high_density_polyethylene_PE-HD/UFSN8198.jpg  \n",
            "  inflating: seven_plastics/2_high_density_polyethylene_PE-HD/VASQ0881.jpg  \n",
            "  inflating: seven_plastics/2_high_density_polyethylene_PE-HD/VFBI7968.jpg  \n",
            "  inflating: seven_plastics/2_high_density_polyethylene_PE-HD/VTHC3027.jpg  \n",
            "  inflating: seven_plastics/2_high_density_polyethylene_PE-HD/XVAO1073.jpg  \n",
            "  inflating: seven_plastics/2_high_density_polyethylene_PE-HD/XWRB4119.jpg  \n",
            "  inflating: seven_plastics/2_high_density_polyethylene_PE-HD/e02deaf6-310d-4e75-bb66-08a19c8b6f42.jpg  \n",
            "  inflating: seven_plastics/3_polyvinylchloride_PVC/ILWX6889.jpg  \n",
            "  inflating: seven_plastics/3_polyvinylchloride_PVC/IMG_6401.jpg  \n",
            "  inflating: seven_plastics/3_polyvinylchloride_PVC/IMG_6437.jpg  \n",
            "  inflating: seven_plastics/3_polyvinylchloride_PVC/IMG_6439.jpg  \n",
            "  inflating: seven_plastics/3_polyvinylchloride_PVC/IMG_6441.jpg  \n",
            "  inflating: seven_plastics/3_polyvinylchloride_PVC/IMG_6442.jpg  \n",
            "  inflating: seven_plastics/3_polyvinylchloride_PVC/IMG_6443.jpg  \n",
            "  inflating: seven_plastics/3_polyvinylchloride_PVC/IMG_6449.jpg  \n",
            "  inflating: seven_plastics/3_polyvinylchloride_PVC/IMG_6453.jpg  \n",
            "  inflating: seven_plastics/3_polyvinylchloride_PVC/IMG_6454.jpg  \n",
            "  inflating: seven_plastics/3_polyvinylchloride_PVC/IMG_6455.jpg  \n",
            "  inflating: seven_plastics/3_polyvinylchloride_PVC/IMG_6727.jpg  \n",
            "  inflating: seven_plastics/3_polyvinylchloride_PVC/IMG_6796.jpg  \n",
            "  inflating: seven_plastics/3_polyvinylchloride_PVC/IMG_6797.jpg  \n",
            "  inflating: seven_plastics/3_polyvinylchloride_PVC/IMG_6799.jpg  \n",
            "  inflating: seven_plastics/3_polyvinylchloride_PVC/IMG_E6441.jpg  \n",
            "  inflating: seven_plastics/3_polyvinylchloride_PVC/IMG_E6442.jpg  \n",
            "  inflating: seven_plastics/3_polyvinylchloride_PVC/IMG_E6443.jpg  \n",
            "  inflating: seven_plastics/3_polyvinylchloride_PVC/IMG_E6444.jpg  \n",
            "  inflating: seven_plastics/3_polyvinylchloride_PVC/IMG_E6445.jpg  \n",
            "  inflating: seven_plastics/3_polyvinylchloride_PVC/IMG_E6449.jpg  \n",
            "  inflating: seven_plastics/3_polyvinylchloride_PVC/IMG_E6463.jpg  \n",
            "  inflating: seven_plastics/3_polyvinylchloride_PVC/IMG_E6464.jpg  \n",
            "  inflating: seven_plastics/3_polyvinylchloride_PVC/IMG_E6468.jpg  \n",
            "  inflating: seven_plastics/4_low_density_polyethylene_PE-LD/ERMA5291.jpg  \n",
            "  inflating: seven_plastics/4_low_density_polyethylene_PE-LD/IMG_4.jpg  \n",
            "  inflating: seven_plastics/4_low_density_polyethylene_PE-LD/IMG_6258.jpg  \n",
            "  inflating: seven_plastics/4_low_density_polyethylene_PE-LD/IMG_6278.jpg  \n",
            "  inflating: seven_plastics/4_low_density_polyethylene_PE-LD/IMG_6284.jpg  \n",
            "  inflating: seven_plastics/4_low_density_polyethylene_PE-LD/IMG_6286.jpg  \n",
            "  inflating: seven_plastics/4_low_density_polyethylene_PE-LD/IMG_6307.jpg  \n",
            "  inflating: seven_plastics/4_low_density_polyethylene_PE-LD/IMG_6318.jpg  \n",
            "  inflating: seven_plastics/4_low_density_polyethylene_PE-LD/IMG_6337.jpg  \n",
            "  inflating: seven_plastics/4_low_density_polyethylene_PE-LD/IMG_6340.jpg  \n",
            "  inflating: seven_plastics/4_low_density_polyethylene_PE-LD/IMG_6341.jpg  \n",
            "  inflating: seven_plastics/4_low_density_polyethylene_PE-LD/IMG_6406.jpg  \n",
            "  inflating: seven_plastics/4_low_density_polyethylene_PE-LD/IMG_6434.jpg  \n",
            "  inflating: seven_plastics/4_low_density_polyethylene_PE-LD/IMG_6438.jpg  \n",
            "  inflating: seven_plastics/4_low_density_polyethylene_PE-LD/IMG_6440.jpg  \n",
            "  inflating: seven_plastics/4_low_density_polyethylene_PE-LD/IMG_6452.jpg  \n",
            "  inflating: seven_plastics/4_low_density_polyethylene_PE-LD/IMG_6456.jpg  \n",
            "  inflating: seven_plastics/4_low_density_polyethylene_PE-LD/IMG_6461.jpg  \n",
            "  inflating: seven_plastics/4_low_density_polyethylene_PE-LD/IMG_6555.jpg  \n",
            "  inflating: seven_plastics/4_low_density_polyethylene_PE-LD/IMG_6557.jpg  \n",
            "  inflating: seven_plastics/4_low_density_polyethylene_PE-LD/IMG_6558.jpg  \n",
            "  inflating: seven_plastics/4_low_density_polyethylene_PE-LD/IMG_6559.jpg  \n",
            "  inflating: seven_plastics/4_low_density_polyethylene_PE-LD/IMG_6560.jpg  \n",
            "  inflating: seven_plastics/4_low_density_polyethylene_PE-LD/IMG_6562.jpg  \n",
            "  inflating: seven_plastics/4_low_density_polyethylene_PE-LD/IMG_6563.jpg  \n",
            "  inflating: seven_plastics/4_low_density_polyethylene_PE-LD/IMG_6564.jpg  \n",
            "  inflating: seven_plastics/4_low_density_polyethylene_PE-LD/IMG_6567.jpg  \n",
            "  inflating: seven_plastics/4_low_density_polyethylene_PE-LD/IMG_6574.jpg  \n",
            "  inflating: seven_plastics/4_low_density_polyethylene_PE-LD/IMG_6576.jpg  \n",
            "  inflating: seven_plastics/4_low_density_polyethylene_PE-LD/IMG_6577.jpg  \n",
            "  inflating: seven_plastics/4_low_density_polyethylene_PE-LD/IMG_6578.jpg  \n",
            "  inflating: seven_plastics/4_low_density_polyethylene_PE-LD/IMG_6579.jpg  \n",
            "  inflating: seven_plastics/4_low_density_polyethylene_PE-LD/IMG_6582.jpg  \n",
            "  inflating: seven_plastics/4_low_density_polyethylene_PE-LD/IMG_6583.jpg  \n",
            "  inflating: seven_plastics/4_low_density_polyethylene_PE-LD/IMG_6587.jpg  \n",
            "  inflating: seven_plastics/4_low_density_polyethylene_PE-LD/IMG_6590.jpg  \n",
            "  inflating: seven_plastics/4_low_density_polyethylene_PE-LD/IMG_6592.jpg  \n",
            "  inflating: seven_plastics/4_low_density_polyethylene_PE-LD/IMG_6593.jpg  \n",
            "  inflating: seven_plastics/4_low_density_polyethylene_PE-LD/IMG_6594.jpg  \n",
            "  inflating: seven_plastics/4_low_density_polyethylene_PE-LD/IMG_6595.jpg  \n",
            "  inflating: seven_plastics/4_low_density_polyethylene_PE-LD/IMG_6596.jpg  \n",
            "  inflating: seven_plastics/4_low_density_polyethylene_PE-LD/IMG_6599.jpg  \n",
            "  inflating: seven_plastics/4_low_density_polyethylene_PE-LD/IMG_6600.jpg  \n",
            "  inflating: seven_plastics/4_low_density_polyethylene_PE-LD/IMG_6606.jpg  \n",
            "  inflating: seven_plastics/4_low_density_polyethylene_PE-LD/IMG_6608.jpg  \n",
            "  inflating: seven_plastics/4_low_density_polyethylene_PE-LD/IMG_6609.jpg  \n",
            "  inflating: seven_plastics/4_low_density_polyethylene_PE-LD/IMG_6610.jpg  \n",
            "  inflating: seven_plastics/4_low_density_polyethylene_PE-LD/IMG_6611.jpg  \n",
            "  inflating: seven_plastics/4_low_density_polyethylene_PE-LD/IMG_6612.jpg  \n",
            "  inflating: seven_plastics/4_low_density_polyethylene_PE-LD/IMG_6613.jpg  \n",
            "  inflating: seven_plastics/4_low_density_polyethylene_PE-LD/IMG_6616.jpg  \n",
            "  inflating: seven_plastics/4_low_density_polyethylene_PE-LD/IMG_6624.jpg  \n",
            "  inflating: seven_plastics/4_low_density_polyethylene_PE-LD/IMG_6717.jpg  \n",
            "  inflating: seven_plastics/4_low_density_polyethylene_PE-LD/IMG_6719.jpg  \n",
            "  inflating: seven_plastics/4_low_density_polyethylene_PE-LD/IMG_6720.jpg  \n",
            "  inflating: seven_plastics/4_low_density_polyethylene_PE-LD/IMG_6721.jpg  \n",
            "  inflating: seven_plastics/4_low_density_polyethylene_PE-LD/IMG_6723.jpg  \n",
            "  inflating: seven_plastics/4_low_density_polyethylene_PE-LD/IMG_6725.jpg  \n",
            "  inflating: seven_plastics/4_low_density_polyethylene_PE-LD/IMG_6750.jpg  \n",
            "  inflating: seven_plastics/4_low_density_polyethylene_PE-LD/IMG_6794.jpg  \n",
            "  inflating: seven_plastics/4_low_density_polyethylene_PE-LD/IMG_6808.jpg  \n",
            "  inflating: seven_plastics/4_low_density_polyethylene_PE-LD/IMG_6822.jpg  \n",
            "  inflating: seven_plastics/4_low_density_polyethylene_PE-LD/IMG_6834.jpg  \n",
            "  inflating: seven_plastics/4_low_density_polyethylene_PE-LD/IMG_7184.jpg  \n",
            "  inflating: seven_plastics/4_low_density_polyethylene_PE-LD/IMG_7188.jpg  \n",
            "  inflating: seven_plastics/4_low_density_polyethylene_PE-LD/IMG_7189.jpg  \n",
            "  inflating: seven_plastics/4_low_density_polyethylene_PE-LD/IMG_7195.jpg  \n",
            "  inflating: seven_plastics/4_low_density_polyethylene_PE-LD/IMG_7196.jpg  \n",
            "  inflating: seven_plastics/4_low_density_polyethylene_PE-LD/IMG_7197.jpg  \n",
            "  inflating: seven_plastics/4_low_density_polyethylene_PE-LD/IMG_7198.jpg  \n",
            "  inflating: seven_plastics/4_low_density_polyethylene_PE-LD/IMG_7199.jpg  \n",
            "  inflating: seven_plastics/4_low_density_polyethylene_PE-LD/IMG_7258.jpg  \n",
            "  inflating: seven_plastics/4_low_density_polyethylene_PE-LD/IMG_7345.jpg  \n",
            "  inflating: seven_plastics/4_low_density_polyethylene_PE-LD/IMG_7446.jpg  \n",
            "  inflating: seven_plastics/4_low_density_polyethylene_PE-LD/IMG_9443.jpg  \n",
            "  inflating: seven_plastics/4_low_density_polyethylene_PE-LD/IMG_9444.jpg  \n",
            "  inflating: seven_plastics/4_low_density_polyethylene_PE-LD/IMG_94441.jpg  \n",
            "  inflating: seven_plastics/4_low_density_polyethylene_PE-LD/IMG_9445.jpg  \n",
            "  inflating: seven_plastics/4_low_density_polyethylene_PE-LD/IMG_9744.jpg  \n",
            "  inflating: seven_plastics/4_low_density_polyethylene_PE-LD/IMG_9747.jpg  \n",
            "  inflating: seven_plastics/4_low_density_polyethylene_PE-LD/IMG_E6450.jpg  \n",
            "  inflating: seven_plastics/4_low_density_polyethylene_PE-LD/IMG_E6451.jpg  \n",
            "  inflating: seven_plastics/4_low_density_polyethylene_PE-LD/IMG_E6469.jpg  \n",
            "  inflating: seven_plastics/4_low_density_polyethylene_PE-LD/IMG_E6471.jpg  \n",
            "  inflating: seven_plastics/4_low_density_polyethylene_PE-LD/IMG_E6548.jpg  \n",
            "  inflating: seven_plastics/4_low_density_polyethylene_PE-LD/LJHE2832.jpg  \n",
            "  inflating: seven_plastics/4_low_density_polyethylene_PE-LD/QJIJ2156.jpg  \n",
            "  inflating: seven_plastics/4_low_density_polyethylene_PE-LD/WXCB0862.jpg  \n",
            "  inflating: seven_plastics/4_low_density_polyethylene_PE-LD/XAPM4370.jpg  \n",
            "  inflating: seven_plastics/4_low_density_polyethylene_PE-LD/XBOA3407.jpg  \n",
            "  inflating: seven_plastics/5_polypropylene_PP/4ef1da2d-660e-4ffb-b0b8-df58e4f90fac.jpg  \n",
            "  inflating: seven_plastics/5_polypropylene_PP/BDGR4352.jpg  \n",
            "  inflating: seven_plastics/5_polypropylene_PP/DIAA2120.jpg  \n",
            "  inflating: seven_plastics/5_polypropylene_PP/EEIS5865.jpg  \n",
            "  inflating: seven_plastics/5_polypropylene_PP/GPTS7579.jpg  \n",
            "  inflating: seven_plastics/5_polypropylene_PP/HFRZ5725.jpg  \n",
            "  inflating: seven_plastics/5_polypropylene_PP/IBLP0622.jpg  \n",
            "  inflating: seven_plastics/5_polypropylene_PP/IMG_6247.jpg  \n",
            "  inflating: seven_plastics/5_polypropylene_PP/IMG_6249.jpg  \n",
            "  inflating: seven_plastics/5_polypropylene_PP/IMG_6250.jpg  \n",
            "  inflating: seven_plastics/5_polypropylene_PP/IMG_6251.jpg  \n",
            "  inflating: seven_plastics/5_polypropylene_PP/IMG_6252.jpg  \n",
            "  inflating: seven_plastics/5_polypropylene_PP/IMG_6253.jpg  \n",
            "  inflating: seven_plastics/5_polypropylene_PP/IMG_6254.jpg  \n",
            "  inflating: seven_plastics/5_polypropylene_PP/IMG_6255.jpg  \n",
            "  inflating: seven_plastics/5_polypropylene_PP/IMG_6256.jpg  \n",
            "  inflating: seven_plastics/5_polypropylene_PP/IMG_6257.jpg  \n",
            "  inflating: seven_plastics/5_polypropylene_PP/IMG_6259.jpg  \n",
            "  inflating: seven_plastics/5_polypropylene_PP/IMG_6264.jpg  \n",
            "  inflating: seven_plastics/5_polypropylene_PP/IMG_6273.jpg  \n",
            "  inflating: seven_plastics/5_polypropylene_PP/IMG_6276.jpg  \n",
            "  inflating: seven_plastics/5_polypropylene_PP/IMG_6279.jpg  \n",
            "  inflating: seven_plastics/5_polypropylene_PP/IMG_6281.jpg  \n",
            "  inflating: seven_plastics/5_polypropylene_PP/IMG_6282.jpg  \n",
            "  inflating: seven_plastics/5_polypropylene_PP/IMG_6283.jpg  \n",
            "  inflating: seven_plastics/5_polypropylene_PP/IMG_6315.jpg  \n",
            "  inflating: seven_plastics/5_polypropylene_PP/IMG_6316.jpg  \n",
            "  inflating: seven_plastics/5_polypropylene_PP/IMG_6317.jpg  \n",
            "  inflating: seven_plastics/5_polypropylene_PP/IMG_6319.jpg  \n",
            "  inflating: seven_plastics/5_polypropylene_PP/IMG_6320.jpg  \n",
            "  inflating: seven_plastics/5_polypropylene_PP/IMG_6323.jpg  \n",
            "  inflating: seven_plastics/5_polypropylene_PP/IMG_6324.jpg  \n",
            "  inflating: seven_plastics/5_polypropylene_PP/IMG_6331.jpg  \n",
            "  inflating: seven_plastics/5_polypropylene_PP/IMG_6333.jpg  \n",
            "  inflating: seven_plastics/5_polypropylene_PP/IMG_6335.jpg  \n",
            "  inflating: seven_plastics/5_polypropylene_PP/IMG_6338.jpg  \n",
            "  inflating: seven_plastics/5_polypropylene_PP/IMG_6339.jpg  \n",
            "  inflating: seven_plastics/5_polypropylene_PP/IMG_6342.jpg  \n",
            "  inflating: seven_plastics/5_polypropylene_PP/IMG_6343.jpg  \n",
            "  inflating: seven_plastics/5_polypropylene_PP/IMG_6347.jpg  \n",
            "  inflating: seven_plastics/5_polypropylene_PP/IMG_6348.jpg  \n",
            "  inflating: seven_plastics/5_polypropylene_PP/IMG_6349.jpg  \n",
            "  inflating: seven_plastics/5_polypropylene_PP/IMG_6350.jpg  \n",
            "  inflating: seven_plastics/5_polypropylene_PP/IMG_6351.jpg  \n",
            "  inflating: seven_plastics/5_polypropylene_PP/IMG_6352.jpg  \n",
            "  inflating: seven_plastics/5_polypropylene_PP/IMG_6353.jpg  \n",
            "  inflating: seven_plastics/5_polypropylene_PP/IMG_6354.jpg  \n",
            "  inflating: seven_plastics/5_polypropylene_PP/IMG_6358.jpg  \n",
            "  inflating: seven_plastics/5_polypropylene_PP/IMG_6369.jpg  \n",
            "  inflating: seven_plastics/5_polypropylene_PP/IMG_6370.jpg  \n",
            "  inflating: seven_plastics/5_polypropylene_PP/IMG_6372.jpg  \n",
            "  inflating: seven_plastics/5_polypropylene_PP/IMG_6400.jpg  \n",
            "  inflating: seven_plastics/5_polypropylene_PP/IMG_6410.jpg  \n",
            "  inflating: seven_plastics/5_polypropylene_PP/IMG_6416.jpg  \n",
            "  inflating: seven_plastics/5_polypropylene_PP/IMG_6417.jpg  \n",
            "  inflating: seven_plastics/5_polypropylene_PP/IMG_6418.jpg  \n",
            "  inflating: seven_plastics/5_polypropylene_PP/IMG_6420.jpg  \n",
            "  inflating: seven_plastics/5_polypropylene_PP/IMG_6422.jpg  \n",
            "  inflating: seven_plastics/5_polypropylene_PP/IMG_6424.jpg  \n",
            "  inflating: seven_plastics/5_polypropylene_PP/IMG_6428.jpg  \n",
            "  inflating: seven_plastics/5_polypropylene_PP/IMG_6429.jpg  \n",
            "  inflating: seven_plastics/5_polypropylene_PP/IMG_6430.jpg  \n",
            "  inflating: seven_plastics/5_polypropylene_PP/IMG_6431.jpg  \n",
            "  inflating: seven_plastics/5_polypropylene_PP/IMG_6432.jpg  \n",
            "  inflating: seven_plastics/5_polypropylene_PP/IMG_6433.jpg  \n",
            "  inflating: seven_plastics/5_polypropylene_PP/IMG_6435.jpg  \n",
            "  inflating: seven_plastics/5_polypropylene_PP/IMG_6460.jpg  \n",
            "  inflating: seven_plastics/5_polypropylene_PP/IMG_6487.jpg  \n",
            "  inflating: seven_plastics/5_polypropylene_PP/IMG_6496.jpg  \n",
            "  inflating: seven_plastics/5_polypropylene_PP/IMG_6520.jpg  \n",
            "  inflating: seven_plastics/5_polypropylene_PP/IMG_6521.jpg  \n",
            "  inflating: seven_plastics/5_polypropylene_PP/IMG_6530.jpg  \n",
            "  inflating: seven_plastics/5_polypropylene_PP/IMG_6553.jpg  \n",
            "  inflating: seven_plastics/5_polypropylene_PP/IMG_6566.jpg  \n",
            "  inflating: seven_plastics/5_polypropylene_PP/IMG_6571.jpg  \n",
            "  inflating: seven_plastics/5_polypropylene_PP/IMG_6572.jpg  \n",
            "  inflating: seven_plastics/5_polypropylene_PP/IMG_6573.jpg  \n",
            "  inflating: seven_plastics/5_polypropylene_PP/IMG_6580.jpg  \n",
            "  inflating: seven_plastics/5_polypropylene_PP/IMG_6581.jpg  \n",
            "  inflating: seven_plastics/5_polypropylene_PP/IMG_6584.jpg  \n",
            "  inflating: seven_plastics/5_polypropylene_PP/IMG_6585.jpg  \n",
            "  inflating: seven_plastics/5_polypropylene_PP/IMG_6586.jpg  \n",
            "  inflating: seven_plastics/5_polypropylene_PP/IMG_6602.jpg  \n",
            "  inflating: seven_plastics/5_polypropylene_PP/IMG_6614.jpg  \n",
            "  inflating: seven_plastics/5_polypropylene_PP/IMG_6617.jpg  \n",
            "  inflating: seven_plastics/5_polypropylene_PP/IMG_6627.jpg  \n",
            "  inflating: seven_plastics/5_polypropylene_PP/IMG_6628.jpg  \n",
            "  inflating: seven_plastics/5_polypropylene_PP/IMG_6711.jpg  \n",
            "  inflating: seven_plastics/5_polypropylene_PP/IMG_6713.jpg  \n",
            "  inflating: seven_plastics/5_polypropylene_PP/IMG_6714.jpg  \n",
            "  inflating: seven_plastics/5_polypropylene_PP/IMG_6715.jpg  \n",
            "  inflating: seven_plastics/5_polypropylene_PP/IMG_6744.jpg  \n",
            "  inflating: seven_plastics/5_polypropylene_PP/IMG_6746.jpg  \n",
            "  inflating: seven_plastics/5_polypropylene_PP/IMG_6748.jpg  \n",
            "  inflating: seven_plastics/5_polypropylene_PP/IMG_6759.jpg  \n",
            "  inflating: seven_plastics/5_polypropylene_PP/IMG_6801.jpg  \n",
            "  inflating: seven_plastics/5_polypropylene_PP/IMG_6802.jpg  \n",
            "  inflating: seven_plastics/5_polypropylene_PP/IMG_6803.jpg  \n",
            "  inflating: seven_plastics/5_polypropylene_PP/IMG_6804.jpg  \n",
            "  inflating: seven_plastics/5_polypropylene_PP/IMG_6820.jpg  \n",
            "  inflating: seven_plastics/5_polypropylene_PP/IMG_6821.jpg  \n",
            "  inflating: seven_plastics/5_polypropylene_PP/IMG_6823.jpg  \n",
            "  inflating: seven_plastics/5_polypropylene_PP/IMG_6825.jpg  \n",
            "  inflating: seven_plastics/5_polypropylene_PP/IMG_6835.jpg  \n",
            "  inflating: seven_plastics/5_polypropylene_PP/IMG_6838.jpg  \n",
            "  inflating: seven_plastics/5_polypropylene_PP/IMG_6848.jpg  \n",
            "  inflating: seven_plastics/5_polypropylene_PP/IMG_6850.jpg  \n",
            "  inflating: seven_plastics/5_polypropylene_PP/IMG_6851.jpg  \n",
            "  inflating: seven_plastics/5_polypropylene_PP/IMG_6852.jpg  \n",
            "  inflating: seven_plastics/5_polypropylene_PP/IMG_6989.jpg  \n",
            "  inflating: seven_plastics/5_polypropylene_PP/IMG_6990.jpg  \n",
            "  inflating: seven_plastics/5_polypropylene_PP/IMG_6991.jpg  \n",
            "  inflating: seven_plastics/5_polypropylene_PP/IMG_6995.jpg  \n",
            "  inflating: seven_plastics/5_polypropylene_PP/IMG_6996.jpg  \n",
            "  inflating: seven_plastics/5_polypropylene_PP/IMG_6997.jpg  \n",
            "  inflating: seven_plastics/5_polypropylene_PP/IMG_6998.jpg  \n",
            "  inflating: seven_plastics/5_polypropylene_PP/IMG_6999.jpg  \n",
            "  inflating: seven_plastics/5_polypropylene_PP/IMG_7002.jpg  \n",
            "  inflating: seven_plastics/5_polypropylene_PP/IMG_7003.jpg  \n",
            "  inflating: seven_plastics/5_polypropylene_PP/IMG_7164.jpg  \n",
            "  inflating: seven_plastics/5_polypropylene_PP/IMG_7174.jpg  \n",
            "  inflating: seven_plastics/5_polypropylene_PP/IMG_7175.jpg  \n",
            "  inflating: seven_plastics/5_polypropylene_PP/IMG_7191.jpg  \n",
            "  inflating: seven_plastics/5_polypropylene_PP/IMG_7200.jpg  \n",
            "  inflating: seven_plastics/5_polypropylene_PP/IMG_7201.jpg  \n",
            "  inflating: seven_plastics/5_polypropylene_PP/IMG_7202.jpg  \n",
            "  inflating: seven_plastics/5_polypropylene_PP/IMG_7203.jpg  \n",
            "  inflating: seven_plastics/5_polypropylene_PP/IMG_7204.jpg  \n",
            "  inflating: seven_plastics/5_polypropylene_PP/IMG_7206.jpg  \n",
            "  inflating: seven_plastics/5_polypropylene_PP/IMG_7225.jpg  \n",
            "  inflating: seven_plastics/5_polypropylene_PP/IMG_7226.jpg  \n",
            "  inflating: seven_plastics/5_polypropylene_PP/IMG_7227.jpg  \n",
            "  inflating: seven_plastics/5_polypropylene_PP/IMG_7230.jpg  \n",
            "  inflating: seven_plastics/5_polypropylene_PP/IMG_7232.jpg  \n",
            "  inflating: seven_plastics/5_polypropylene_PP/IMG_7233.jpg  \n",
            "  inflating: seven_plastics/5_polypropylene_PP/IMG_7234.jpg  \n",
            "  inflating: seven_plastics/5_polypropylene_PP/IMG_7238.jpg  \n",
            "  inflating: seven_plastics/5_polypropylene_PP/IMG_7240.jpg  \n",
            "  inflating: seven_plastics/5_polypropylene_PP/IMG_7244.jpg  \n",
            "  inflating: seven_plastics/5_polypropylene_PP/IMG_7250.jpg  \n",
            "  inflating: seven_plastics/5_polypropylene_PP/IMG_7251.jpg  \n",
            "  inflating: seven_plastics/5_polypropylene_PP/IMG_7252.jpg  \n",
            "  inflating: seven_plastics/5_polypropylene_PP/IMG_7253.jpg  \n",
            "  inflating: seven_plastics/5_polypropylene_PP/IMG_7254.jpg  \n",
            "  inflating: seven_plastics/5_polypropylene_PP/IMG_7255.jpg  \n",
            "  inflating: seven_plastics/5_polypropylene_PP/IMG_7256.jpg  \n",
            "  inflating: seven_plastics/5_polypropylene_PP/IMG_7260.jpg  \n",
            "  inflating: seven_plastics/5_polypropylene_PP/IMG_7265.jpg  \n",
            "  inflating: seven_plastics/5_polypropylene_PP/IMG_7268.jpg  \n",
            "  inflating: seven_plastics/5_polypropylene_PP/IMG_7269.jpg  \n",
            "  inflating: seven_plastics/5_polypropylene_PP/IMG_7270.jpg  \n",
            "  inflating: seven_plastics/5_polypropylene_PP/IMG_8042.jpg  \n",
            "  inflating: seven_plastics/5_polypropylene_PP/IMG_8043.jpg  \n",
            "  inflating: seven_plastics/5_polypropylene_PP/IMG_9620.jpg  \n",
            "  inflating: seven_plastics/5_polypropylene_PP/IMG_9671.jpg  \n",
            "  inflating: seven_plastics/5_polypropylene_PP/IMG_9702.jpg  \n",
            "  inflating: seven_plastics/5_polypropylene_PP/IMG_9715.jpg  \n",
            "  inflating: seven_plastics/5_polypropylene_PP/IMG_9716.jpg  \n",
            "  inflating: seven_plastics/5_polypropylene_PP/IMG_9721.jpg  \n",
            "  inflating: seven_plastics/5_polypropylene_PP/IMG_9725.jpg  \n",
            "  inflating: seven_plastics/5_polypropylene_PP/IMG_9727.jpg  \n",
            "  inflating: seven_plastics/5_polypropylene_PP/IMG_9728.jpg  \n",
            "  inflating: seven_plastics/5_polypropylene_PP/IMG_9729.jpg  \n",
            "  inflating: seven_plastics/5_polypropylene_PP/IMG_9730.jpg  \n",
            "  inflating: seven_plastics/5_polypropylene_PP/IMG_9732.jpg  \n",
            "  inflating: seven_plastics/5_polypropylene_PP/IMG_9739.jpg  \n",
            "  inflating: seven_plastics/5_polypropylene_PP/IMG_9741.jpg  \n",
            "  inflating: seven_plastics/5_polypropylene_PP/IMG_E6418.jpg  \n",
            "  inflating: seven_plastics/5_polypropylene_PP/IMG_E6428.jpg  \n",
            "  inflating: seven_plastics/5_polypropylene_PP/IMG_E6459.jpg  \n",
            "  inflating: seven_plastics/5_polypropylene_PP/IMG_E6472.jpg  \n",
            "  inflating: seven_plastics/5_polypropylene_PP/IVTT7280.jpg  \n",
            "  inflating: seven_plastics/5_polypropylene_PP/JGHG2968.jpg  \n",
            "  inflating: seven_plastics/5_polypropylene_PP/JOOK5776.jpg  \n",
            "  inflating: seven_plastics/5_polypropylene_PP/KGOQ3006.jpg  \n",
            "  inflating: seven_plastics/5_polypropylene_PP/KIAX6697.jpg  \n",
            "  inflating: seven_plastics/5_polypropylene_PP/KJHC2625.jpg  \n",
            "  inflating: seven_plastics/5_polypropylene_PP/LFTH2818.jpg  \n",
            "  inflating: seven_plastics/5_polypropylene_PP/NLGL7509.jpg  \n",
            "  inflating: seven_plastics/5_polypropylene_PP/ODGJ0497.jpg  \n",
            "  inflating: seven_plastics/5_polypropylene_PP/PUTT2210.jpg  \n",
            "  inflating: seven_plastics/5_polypropylene_PP/QHHB0732.jpg  \n",
            "  inflating: seven_plastics/5_polypropylene_PP/QODH9455.jpg  \n",
            "  inflating: seven_plastics/5_polypropylene_PP/QYNH3510.jpg  \n",
            "  inflating: seven_plastics/5_polypropylene_PP/RFFD3362.jpg  \n",
            "  inflating: seven_plastics/5_polypropylene_PP/RQLB2348.jpg  \n",
            "  inflating: seven_plastics/5_polypropylene_PP/SQNH5367.jpg  \n",
            "  inflating: seven_plastics/5_polypropylene_PP/TJQA9093.jpg  \n",
            "  inflating: seven_plastics/5_polypropylene_PP/VPLA6740.jpg  \n",
            "  inflating: seven_plastics/5_polypropylene_PP/VXNF9927.jpg  \n",
            "  inflating: seven_plastics/5_polypropylene_PP/XXIG2696.jpg  \n",
            "  inflating: seven_plastics/5_polypropylene_PP/bcb5d17e-6b5d-4900-b8e6-36e1c9439b0c.jpg  \n",
            "  inflating: seven_plastics/6_polystyrene_PS/30b14a3f-487a-4f19-80b1-f24ddb072c25.jpg  \n",
            "  inflating: seven_plastics/6_polystyrene_PS/IMG_6248.jpg  \n",
            "  inflating: seven_plastics/6_polystyrene_PS/IMG_6338.jpg  \n",
            "  inflating: seven_plastics/6_polystyrene_PS/IMG_6425.jpg  \n",
            "  inflating: seven_plastics/6_polystyrene_PS/IMG_6426.jpg  \n",
            "  inflating: seven_plastics/6_polystyrene_PS/IMG_6488.jpg  \n",
            "  inflating: seven_plastics/6_polystyrene_PS/IMG_6490.jpg  \n",
            "  inflating: seven_plastics/6_polystyrene_PS/IMG_6491.jpg  \n",
            "  inflating: seven_plastics/6_polystyrene_PS/IMG_6493.jpg  \n",
            "  inflating: seven_plastics/6_polystyrene_PS/IMG_6524.jpg  \n",
            "  inflating: seven_plastics/6_polystyrene_PS/IMG_6525.jpg  \n",
            "  inflating: seven_plastics/6_polystyrene_PS/IMG_6535.jpg  \n",
            "  inflating: seven_plastics/6_polystyrene_PS/IMG_6565.jpg  \n",
            "  inflating: seven_plastics/6_polystyrene_PS/IMG_6696.jpg  \n",
            "  inflating: seven_plastics/6_polystyrene_PS/IMG_6724.jpg  \n",
            "  inflating: seven_plastics/6_polystyrene_PS/IMG_6732.jpg  \n",
            "  inflating: seven_plastics/6_polystyrene_PS/IMG_6765.jpg  \n",
            "  inflating: seven_plastics/6_polystyrene_PS/IMG_6837.jpg  \n",
            "  inflating: seven_plastics/6_polystyrene_PS/IMG_7043.jpg  \n",
            "  inflating: seven_plastics/6_polystyrene_PS/IMG_7228.jpg  \n",
            "  inflating: seven_plastics/6_polystyrene_PS/IMG_7229.jpg  \n",
            "  inflating: seven_plastics/6_polystyrene_PS/IMG_7259.jpg  \n",
            "  inflating: seven_plastics/6_polystyrene_PS/IMG_7261.jpg  \n",
            "  inflating: seven_plastics/6_polystyrene_PS/IMG_7266.jpg  \n",
            "  inflating: seven_plastics/6_polystyrene_PS/IMG_7267.jpg  \n",
            "  inflating: seven_plastics/6_polystyrene_PS/IMG_7331.jpg  \n",
            "  inflating: seven_plastics/6_polystyrene_PS/IMG_7344.jpg  \n",
            "  inflating: seven_plastics/6_polystyrene_PS/IMG_8046.jpg  \n",
            "  inflating: seven_plastics/6_polystyrene_PS/IMG_8047.jpg  \n",
            "  inflating: seven_plastics/6_polystyrene_PS/IMG_9691.jpg  \n",
            "  inflating: seven_plastics/6_polystyrene_PS/IMG_9692.jpg  \n",
            "  inflating: seven_plastics/6_polystyrene_PS/IMG_9722.jpg  \n",
            "  inflating: seven_plastics/6_polystyrene_PS/IMG_9723.jpg  \n",
            "  inflating: seven_plastics/6_polystyrene_PS/IMG_9724.jpg  \n",
            "  inflating: seven_plastics/6_polystyrene_PS/IMG_E6426.jpg  \n",
            "  inflating: seven_plastics/6_polystyrene_PS/MIQA3922.jpg  \n",
            "  inflating: seven_plastics/6_polystyrene_PS/MNIV8565.jpg  \n",
            "  inflating: seven_plastics/6_polystyrene_PS/PSPB6564.jpg  \n",
            "  inflating: seven_plastics/6_polystyrene_PS/PTAU0812.jpg  \n",
            "  inflating: seven_plastics/7_other_resins/00bfb003-97c9-4329-bd55-c54a128113b5.jpg  \n",
            "  inflating: seven_plastics/7_other_resins/BMOY1981.jpg  \n",
            "  inflating: seven_plastics/7_other_resins/DICK2410.jpg  \n",
            "  inflating: seven_plastics/7_other_resins/IMG_6246.jpg  \n",
            "  inflating: seven_plastics/7_other_resins/IMG_6274.jpg  \n",
            "  inflating: seven_plastics/7_other_resins/IMG_6309.jpg  \n",
            "  inflating: seven_plastics/7_other_resins/IMG_6310.jpg  \n",
            "  inflating: seven_plastics/7_other_resins/IMG_6311.jpg  \n",
            "  inflating: seven_plastics/7_other_resins/IMG_6312.jpg  \n",
            "  inflating: seven_plastics/7_other_resins/IMG_6313.jpg  \n",
            "  inflating: seven_plastics/7_other_resins/IMG_6321.jpg  \n",
            "  inflating: seven_plastics/7_other_resins/IMG_6322.jpg  \n",
            "  inflating: seven_plastics/7_other_resins/IMG_6329.jpg  \n",
            "  inflating: seven_plastics/7_other_resins/IMG_6483.jpg  \n",
            "  inflating: seven_plastics/7_other_resins/IMG_6531.jpg  \n",
            "  inflating: seven_plastics/7_other_resins/IMG_6554.jpg  \n",
            "  inflating: seven_plastics/7_other_resins/IMG_6621.jpg  \n",
            "  inflating: seven_plastics/7_other_resins/IMG_6629.jpg  \n",
            "  inflating: seven_plastics/7_other_resins/IMG_6735.jpg  \n",
            "  inflating: seven_plastics/7_other_resins/IMG_6736.jpg  \n",
            "  inflating: seven_plastics/7_other_resins/IMG_6737.jpg  \n",
            "  inflating: seven_plastics/7_other_resins/IMG_6738.jpg  \n",
            "  inflating: seven_plastics/7_other_resins/IMG_6739.jpg  \n",
            "  inflating: seven_plastics/7_other_resins/IMG_6740.jpg  \n",
            "  inflating: seven_plastics/7_other_resins/IMG_6741.jpg  \n",
            "  inflating: seven_plastics/7_other_resins/IMG_6742.jpg  \n",
            "  inflating: seven_plastics/7_other_resins/IMG_6747.jpg  \n",
            "  inflating: seven_plastics/7_other_resins/IMG_6763.jpg  \n",
            "  inflating: seven_plastics/7_other_resins/IMG_6819.jpg  \n",
            "  inflating: seven_plastics/7_other_resins/IMG_6887.jpg  \n",
            "  inflating: seven_plastics/7_other_resins/IMG_6888.jpg  \n",
            "  inflating: seven_plastics/7_other_resins/IMG_6890.jpg  \n",
            "  inflating: seven_plastics/7_other_resins/IMG_6891.jpg  \n",
            "  inflating: seven_plastics/7_other_resins/IMG_6892.jpg  \n",
            "  inflating: seven_plastics/7_other_resins/IMG_6893.jpg  \n",
            "  inflating: seven_plastics/7_other_resins/IMG_6992.jpg  \n",
            "  inflating: seven_plastics/7_other_resins/IMG_7001.jpg  \n",
            "  inflating: seven_plastics/7_other_resins/IMG_7136.jpg  \n",
            "  inflating: seven_plastics/7_other_resins/IMG_7185.jpg  \n",
            "  inflating: seven_plastics/7_other_resins/IMG_7186.jpg  \n",
            "  inflating: seven_plastics/7_other_resins/IMG_7187.jpg  \n",
            "  inflating: seven_plastics/7_other_resins/IMG_7190.jpg  \n",
            "  inflating: seven_plastics/7_other_resins/IMG_7192.jpg  \n",
            "  inflating: seven_plastics/7_other_resins/IMG_7193.jpg  \n",
            "  inflating: seven_plastics/7_other_resins/IMG_7194.jpg  \n",
            "  inflating: seven_plastics/7_other_resins/IMG_7208.jpg  \n",
            "  inflating: seven_plastics/7_other_resins/IMG_7211.jpg  \n",
            "  inflating: seven_plastics/7_other_resins/IMG_7212.jpg  \n",
            "  inflating: seven_plastics/7_other_resins/IMG_7213.jpg  \n",
            "  inflating: seven_plastics/7_other_resins/IMG_7214.jpg  \n",
            "  inflating: seven_plastics/7_other_resins/IMG_7215.jpg  \n",
            "  inflating: seven_plastics/7_other_resins/IMG_7221.jpg  \n",
            "  inflating: seven_plastics/7_other_resins/IMG_7242.jpg  \n",
            "  inflating: seven_plastics/7_other_resins/IMG_7243.jpg  \n",
            "  inflating: seven_plastics/7_other_resins/IMG_7308.jpg  \n",
            "  inflating: seven_plastics/7_other_resins/IMG_7455.jpg  \n",
            "  inflating: seven_plastics/7_other_resins/IMG_9442.jpg  \n",
            "  inflating: seven_plastics/7_other_resins/IMG_E6462.jpg  \n",
            "  inflating: seven_plastics/7_other_resins/IMG_E6465.jpg  \n",
            "  inflating: seven_plastics/7_other_resins/IMG_E6467.jpg  \n",
            "  inflating: seven_plastics/7_other_resins/LOQZ2832.jpg  \n",
            "  inflating: seven_plastics/7_other_resins/QIUM4467.jpg  \n",
            "  inflating: seven_plastics/7_other_resins/SMEI8101.jpg  \n",
            "  inflating: seven_plastics/7_other_resins/WRAQ6784.jpg  \n",
            "  inflating: seven_plastics/8_no_plastic/IMG_7175.jpg  \n",
            "  inflating: seven_plastics/8_no_plastic/IMG_9447.jpg  \n",
            "  inflating: seven_plastics/8_no_plastic/IMG_9620.jpg  \n",
            "  inflating: seven_plastics/8_no_plastic/IMG_96201.jpg  \n",
            "  inflating: seven_plastics/8_no_plastic/IMG_9622.jpg  \n",
            "  inflating: seven_plastics/8_no_plastic/IMG_9658.jpg  \n",
            "  inflating: seven_plastics/8_no_plastic/IMG_9659.jpg  \n",
            "  inflating: seven_plastics/8_no_plastic/IMG_9661.jpg  \n",
            "  inflating: seven_plastics/8_no_plastic/IMG_9662.jpg  \n",
            "  inflating: seven_plastics/8_no_plastic/IMG_96621.jpg  \n",
            "  inflating: seven_plastics/8_no_plastic/IMG_96622.jpg  \n",
            "  inflating: seven_plastics/8_no_plastic/IMG_96623.jpg  \n",
            "  inflating: seven_plastics/8_no_plastic/IMG_9663.jpg  \n",
            "  inflating: seven_plastics/8_no_plastic/IMG_96632.jpg  \n",
            "  inflating: seven_plastics/8_no_plastic/IMG_96634.jpg  \n",
            "  inflating: seven_plastics/8_no_plastic/IMG_9664.jpg  \n",
            "  inflating: seven_plastics/8_no_plastic/IMG_9665.jpg  \n",
            "  inflating: seven_plastics/8_no_plastic/IMG_9666.jpg  \n",
            "  inflating: seven_plastics/8_no_plastic/IMG_9667.jpg  \n",
            "  inflating: seven_plastics/8_no_plastic/IMG_9668.jpg  \n",
            "  inflating: seven_plastics/8_no_plastic/IMG_9669.jpg  \n",
            "  inflating: seven_plastics/8_no_plastic/IMG_9670.jpg  \n",
            "  inflating: seven_plastics/8_no_plastic/IMG_9672.jpg  \n",
            "  inflating: seven_plastics/8_no_plastic/IMG_9674.jpg  \n",
            "  inflating: seven_plastics/8_no_plastic/IMG_9675.jpg  \n",
            "  inflating: seven_plastics/8_no_plastic/IMG_9676.jpg  \n",
            "  inflating: seven_plastics/8_no_plastic/IMG_9677.jpg  \n",
            "  inflating: seven_plastics/8_no_plastic/IMG_9678.jpg  \n",
            "  inflating: seven_plastics/8_no_plastic/IMG_96782.jpg  \n",
            "  inflating: seven_plastics/8_no_plastic/IMG_9679.jpg  \n",
            "  inflating: seven_plastics/8_no_plastic/IMG_9680.jpg  \n",
            "  inflating: seven_plastics/8_no_plastic/IMG_9681.jpg  \n",
            "  inflating: seven_plastics/8_no_plastic/IMG_9681s.jpg  \n",
            "  inflating: seven_plastics/8_no_plastic/IMG_9682.jpg  \n",
            "  inflating: seven_plastics/8_no_plastic/IMG_9683.jpg  \n",
            "  inflating: seven_plastics/8_no_plastic/IMG_9684.jpg  \n",
            "  inflating: seven_plastics/8_no_plastic/IMG_9685.jpg  \n",
            "  inflating: seven_plastics/8_no_plastic/IMG_96852.jpg  \n",
            "  inflating: seven_plastics/8_no_plastic/IMG_96855.jpg  \n",
            "  inflating: seven_plastics/8_no_plastic/IMG_9697.jpg  \n",
            "  inflating: seven_plastics/8_no_plastic/IMG_9698.jpg  \n",
            "  inflating: seven_plastics/8_no_plastic/IMG_9699.jpg  \n",
            "  inflating: seven_plastics/8_no_plastic/IMG_96as81.jpg  \n",
            "  inflating: seven_plastics/8_no_plastic/IMG_96asd78.jpg  \n",
            "  inflating: seven_plastics/8_no_plastic/IMG_96s85.jpg  \n",
            "  inflating: seven_plastics/8_no_plastic/IMG_9700.jpg  \n",
            "  inflating: seven_plastics/8_no_plastic/IMG_9701.jpg  \n",
            "  inflating: seven_plastics/8_no_plastic/IMG_9703.jpg  \n",
            "  inflating: seven_plastics/8_no_plastic/IMG_9704.jpg  \n",
            "  inflating: seven_plastics/8_no_plastic/IMG_9706.jpg  \n",
            "  inflating: seven_plastics/8_no_plastic/IMG_9707.jpg  \n",
            "  inflating: seven_plastics/8_no_plastic/IMG_9709.jpg  \n",
            "  inflating: seven_plastics/8_no_plastic/IMG_9710.jpg  \n",
            "  inflating: seven_plastics/8_no_plastic/IMG_9711.jpg  \n",
            "  inflating: seven_plastics/8_no_plastic/IMG_9712.jpg  \n",
            "  inflating: seven_plastics/8_no_plastic/IMG_9713.jpg  \n",
            "  inflating: seven_plastics/8_no_plastic/IMG_9717.jpg  \n",
            "  inflating: seven_plastics/8_no_plastic/IMG_9718.jpg  \n",
            "  inflating: seven_plastics/8_no_plastic/IMG_9719.jpg  \n",
            "  inflating: seven_plastics/8_no_plastic/IMG_9720.jpg  \n",
            "  inflating: seven_plastics/8_no_plastic/IMG_9731.jpg  \n",
            "  inflating: seven_plastics/8_no_plastic/IMG_9733.jpg  \n",
            "  inflating: seven_plastics/8_no_plastic/IMG_9734.jpg  \n",
            "  inflating: seven_plastics/8_no_plastic/IMG_9735.jpg  \n",
            "  inflating: seven_plastics/8_no_plastic/IMG_9736.jpg  \n",
            "  inflating: seven_plastics/8_no_plastic/IMG_9737.jpg  \n",
            "  inflating: seven_plastics/8_no_plastic/IMG_9738.jpg  \n",
            "  inflating: seven_plastics/8_no_plastic/IMG_9745.jpg  \n",
            "  inflating: seven_plastics/8_no_plastic/IMG_9746.jpg  \n",
            "  inflating: seven_plastics/8_no_plastic/IMG_9749.jpg  \n",
            "  inflating: seven_plastics/8_no_plastic/IMG_9750.jpg  \n",
            "  inflating: seven_plastics/8_no_plastic/IMG_9751.jpg  \n",
            "  inflating: seven_plastics/8_no_plastic/dfgr.jpg  \n",
            "  inflating: seven_plastics/8_no_plastic/ergba.jpg  \n",
            "  inflating: seven_plastics/8_no_plastic/s.jpg  \n",
            "  inflating: seven_plastics/8_no_plastic/sdf.jpg  \n",
            "  inflating: seven_plastics/8_no_plastic/sdfsdf.jpg  \n",
            "  inflating: seven_plastics/8_no_plastic/werw.jpg  \n",
            "  inflating: seven_plastics/8_no_plastic/ywvx.jpg  \n"
          ]
        }
      ],
      "source": [
        "! unzip archive-2.zip"
      ]
    },
    {
      "cell_type": "code",
      "execution_count": null,
      "metadata": {
        "id": "vIYgN45X-rpC"
      },
      "outputs": [],
      "source": [
        "from PIL import Image\n",
        "from glob import glob\n",
        "import numpy as np\n",
        "import os\n",
        "\n",
        "label_dict = {\n",
        "    \"1_polyethylene_PET\": 0,\n",
        "    \"2_high_density_polyethylene_PE-HD\": 1,\n",
        "    \"3_polyvinylchloride_PVC\": 2,\n",
        "    \"4_low_density_polyethylene_PE-LD\": 3,\n",
        "    \"5_polypropylene_PP\": 4,\n",
        "    \"6_polystyrene_PS\": 5,\n",
        "    \"7_other_resins\": 6,\n",
        "    \"8_no_plastic\": 7,\n",
        "}\n",
        "\n",
        "label_list = []\n",
        "img_list = []\n",
        "\n",
        "for label_path in glob(\"./seven_plastics/*\"):\n",
        "    for img_path in glob(label_path + \"/*\"):\n",
        "        # 이미지 불러와서 넘파이 어레이로 변경 후, 리스트에 추가하기 CODE HERE\n",
        "        image = np.array(Image.open(img_path).convert(\"RGB\").resize((224, 224)))\n",
        "        img_list.append(image)\n",
        "        # If resize needed (이미지 사이즈가 다른 경우):\n",
        "        # image = np.array(Image.open(img_path).resize(28,28,3))\n",
        "        label_list.append(label_dict[os.path.basename(label_path)]) # 라벨 추가하는 코드 만들기\n",
        "label_list = np.array(label_list)\n",
        "img_list = np.array(img_list)"
      ]
    },
    {
      "cell_type": "code",
      "execution_count": null,
      "metadata": {
        "colab": {
          "base_uri": "https://localhost:8080/"
        },
        "id": "9lxHwBmWpuYy",
        "outputId": "81d82ce9-5743-4f0e-9bad-1932960f4d4e"
      },
      "outputs": [
        {
          "output_type": "execute_result",
          "data": {
            "text/plain": [
              "((685,), (685, 224, 224, 3))"
            ]
          },
          "metadata": {},
          "execution_count": 4
        }
      ],
      "source": [
        "# Your Code Here\n",
        "label_list.shape, img_list.shape"
      ]
    },
    {
      "cell_type": "code",
      "source": [
        "import matplotlib.pyplot as plt\n",
        "\n",
        "ex = img_list[10]\n",
        "\n",
        "plt.matshow(img_list[10])"
      ],
      "metadata": {
        "colab": {
          "base_uri": "https://localhost:8080/",
          "height": 294
        },
        "id": "CZvFAEKn2cx0",
        "outputId": "402296c4-6e1e-4c1b-8b94-ed3b574a4871"
      },
      "execution_count": null,
      "outputs": [
        {
          "output_type": "execute_result",
          "data": {
            "text/plain": [
              "<matplotlib.image.AxesImage at 0x7f7e1fec1210>"
            ]
          },
          "metadata": {},
          "execution_count": 3
        },
        {
          "output_type": "display_data",
          "data": {
            "text/plain": [
              "<Figure size 288x288 with 1 Axes>"
            ],
            "image/png": "[encoded data removed]"
          },
          "metadata": {
            "needs_background": "light"
          }
        }
      ]
    },
    {
      "cell_type": "code",
      "source": [
        "np.bincount(label_list)\n",
        "#약간의 클래스 불균형.. 2, 5번 클래스의 개수가 적다"
      ],
      "metadata": {
        "colab": {
          "base_uri": "https://localhost:8080/"
        },
        "id": "TedR_N3N1XLn",
        "outputId": "22b4c760-e081-4592-c75b-739abc7849f9"
      },
      "execution_count": null,
      "outputs": [
        {
          "output_type": "execute_result",
          "data": {
            "text/plain": [
              "array([121,  76,  24,  90, 192,  39,  64,  79])"
            ]
          },
          "metadata": {},
          "execution_count": 4
        }
      ]
    },
    {
      "cell_type": "code",
      "source": [
        "from sklearn.model_selection import train_test_split\n",
        "\n",
        "X_train, X_test, y_train, y_test = train_test_split(img_list, label_list, test_size=0.15, random_state=1120)"
      ],
      "metadata": {
        "id": "EnwNwQ111ZQM"
      },
      "execution_count": null,
      "outputs": []
    },
    {
      "cell_type": "code",
      "source": [
        "X_train.shape, y_train.shape, X_test.shape, y_test.shape"
      ],
      "metadata": {
        "colab": {
          "base_uri": "https://localhost:8080/"
        },
        "id": "GMBZOXwX1kzS",
        "outputId": "d2549043-e171-4639-f4dc-7126d52c8ad1"
      },
      "execution_count": null,
      "outputs": [
        {
          "output_type": "execute_result",
          "data": {
            "text/plain": [
              "((582, 224, 224, 3), (582,), (103, 224, 224, 3), (103,))"
            ]
          },
          "metadata": {},
          "execution_count": 6
        }
      ]
    },
    {
      "cell_type": "code",
      "source": [
        "np.bincount(y_test)"
      ],
      "metadata": {
        "colab": {
          "base_uri": "https://localhost:8080/"
        },
        "id": "NeYkk-9PwJoG",
        "outputId": "35bebb54-1f77-4479-e5c5-0f4f3c0f8963"
      },
      "execution_count": null,
      "outputs": [
        {
          "output_type": "execute_result",
          "data": {
            "text/plain": [
              "array([12, 10,  1, 17, 33,  5, 10, 15])"
            ]
          },
          "metadata": {},
          "execution_count": 7
        }
      ]
    },
    {
      "cell_type": "markdown",
      "source": [
        "#### 데이터 증강 example"
      ],
      "metadata": {
        "id": "9qopvmSUYIWh"
      }
    },
    {
      "cell_type": "code",
      "source": [
        "import tensorflow as tf"
      ],
      "metadata": {
        "id": "nB9Wv34IaOiK"
      },
      "execution_count": null,
      "outputs": []
    },
    {
      "cell_type": "code",
      "source": [
        "#ex_ = tf.image.flip_left_right(ex)\n",
        "#ex_ = tf.image.adjust_saturation(ex, 3)\n",
        "#ex_ = tf.image.adjust_brightness(ex, 0.22537)\n",
        "ex_ = tf.image.central_crop(ex, central_fraction=0.9)\n",
        "plt.matshow(ex_)"
      ],
      "metadata": {
        "colab": {
          "base_uri": "https://localhost:8080/",
          "height": 294
        },
        "id": "OHXFHZTlYJdX",
        "outputId": "678c5076-3685-43c7-9010-cb413533193f"
      },
      "execution_count": null,
      "outputs": [
        {
          "output_type": "execute_result",
          "data": {
            "text/plain": [
              "<matplotlib.image.AxesImage at 0x7f7da0337850>"
            ]
          },
          "metadata": {},
          "execution_count": 7
        },
        {
          "output_type": "display_data",
          "data": {
            "text/plain": [
              "<Figure size 288x288 with 1 Axes>"
            ],
            "image/png": "[encoded data removed]"
          },
          "metadata": {
            "needs_background": "light"
          }
        }
      ]
    },
    {
      "cell_type": "code",
      "source": [
        "ex_.shape"
      ],
      "metadata": {
        "colab": {
          "base_uri": "https://localhost:8080/"
        },
        "id": "A-uzAaydj4P4",
        "outputId": "b22b8e6d-0bff-4537-afbe-5be3fc432664"
      },
      "execution_count": null,
      "outputs": [
        {
          "output_type": "execute_result",
          "data": {
            "text/plain": [
              "TensorShape([202, 202, 3])"
            ]
          },
          "metadata": {},
          "execution_count": 8
        }
      ]
    },
    {
      "cell_type": "code",
      "source": [
        "ex_ = tf.image.resize(ex_, [224, 224])\n",
        "ex_.shape"
      ],
      "metadata": {
        "colab": {
          "base_uri": "https://localhost:8080/"
        },
        "id": "FORwSqdRkdzO",
        "outputId": "5d7fc8f1-3513-49a7-dcd7-0472ceda5b86"
      },
      "execution_count": null,
      "outputs": [
        {
          "output_type": "execute_result",
          "data": {
            "text/plain": [
              "TensorShape([224, 224, 3])"
            ]
          },
          "metadata": {},
          "execution_count": 9
        }
      ]
    },
    {
      "cell_type": "code",
      "source": [
        "a, b, c, d, e = augmentation(ex)\n",
        "a.shape, b.shape, c.shape, d.shape, e.shape"
      ],
      "metadata": {
        "colab": {
          "base_uri": "https://localhost:8080/"
        },
        "id": "cqXLySf9kGZ3",
        "outputId": "6b31f91b-359c-4351-88e5-07c9b1123f5c"
      },
      "execution_count": null,
      "outputs": [
        {
          "output_type": "execute_result",
          "data": {
            "text/plain": [
              "(TensorShape([224, 224, 3]),\n",
              " TensorShape([224, 224, 3]),\n",
              " TensorShape([224, 224, 3]),\n",
              " TensorShape([224, 224, 3]),\n",
              " TensorShape([208, 208, 3]))"
            ]
          },
          "metadata": {},
          "execution_count": 50
        }
      ]
    },
    {
      "cell_type": "code",
      "source": [
        "a_ = tf.reshape(a, [1,224,224,3])\n",
        "a_.shape"
      ],
      "metadata": {
        "colab": {
          "base_uri": "https://localhost:8080/"
        },
        "id": "Xqt39vG1lXf0",
        "outputId": "da560866-5425-4792-9a73-45308e5c57e4"
      },
      "execution_count": null,
      "outputs": [
        {
          "output_type": "execute_result",
          "data": {
            "text/plain": [
              "TensorShape([1, 224, 224, 3])"
            ]
          },
          "metadata": {},
          "execution_count": 62
        }
      ]
    },
    {
      "cell_type": "code",
      "source": [
        "import random\n",
        "random.uniform(0.05, 0.25)"
      ],
      "metadata": {
        "colab": {
          "base_uri": "https://localhost:8080/"
        },
        "id": "YtZ1nHvqiG24",
        "outputId": "9d3e0b47-1087-4a7e-ba20-7118b8cfdf12"
      },
      "execution_count": null,
      "outputs": [
        {
          "output_type": "execute_result",
          "data": {
            "text/plain": [
              "0.06613261049787647"
            ]
          },
          "metadata": {},
          "execution_count": 43
        }
      ]
    },
    {
      "cell_type": "code",
      "source": [
        "arr = np.ones((10, 224, 224, 3))\n",
        "arr = np.append(arr, np.ones((1, 224, 224, 3)), axis=0)\n",
        "arr.shape"
      ],
      "metadata": {
        "colab": {
          "base_uri": "https://localhost:8080/"
        },
        "id": "SPhV8AU-kfkl",
        "outputId": "bb519f90-e767-4473-bcd9-004e335d6af8"
      },
      "execution_count": null,
      "outputs": [
        {
          "output_type": "execute_result",
          "data": {
            "text/plain": [
              "(11, 224, 224, 3)"
            ]
          },
          "metadata": {},
          "execution_count": 57
        }
      ]
    },
    {
      "cell_type": "markdown",
      "source": [
        "#### 데이터 증강"
      ],
      "metadata": {
        "id": "bRcce-s2re2q"
      }
    },
    {
      "cell_type": "code",
      "source": [
        "import numpy as np\n",
        "import random\n",
        "import tensorflow as tf\n",
        "\n",
        "def augmentation(image):\n",
        "  sat = np.random.randint(1, 4) #[1,4)\n",
        "  bri1 = random.uniform(0.05, 0.25)\n",
        "  bri2 = random.uniform(0.05, 0.25)\n",
        "  #crp = random.uniform(0.9, 1)\n",
        "\n",
        "  fl = tf.image.flip_left_right(image)\n",
        "  c = tf.image.adjust_saturation(image, sat)\n",
        "  b1 = tf.image.adjust_brightness(image, bri1)\n",
        "  b2 = tf.image.adjust_brightness(image, bri2)\n",
        "  # fr_ = tf.image.central_crop(image, central_fraction=crp)\n",
        "  # fr = tf.image.resize(fr_, [224, 224]) #cropped 이미지 resizing\n",
        "\n",
        "  return fl, c, b1, b2"
      ],
      "metadata": {
        "id": "2FeoB9oIbVwg"
      },
      "execution_count": null,
      "outputs": []
    },
    {
      "cell_type": "code",
      "source": [
        "aug_img = X_train\n",
        "aug_label = y_train\n",
        "\n",
        "for i, img in enumerate(X_train):\n",
        "  fl, c, b1, b2 = augmentation(img)\n",
        "  lab = y_train[i] #원본 데이터의 라벨\n",
        "\n",
        "  aug_img = np.append(aug_img, tf.reshape(fl, [1,224,224,3]), axis=0)\n",
        "  aug_img = np.append(aug_img, tf.reshape(c, [1,224,224,3]), axis=0)\n",
        "  aug_img = np.append(aug_img, tf.reshape(b1, [1,224,224,3]), axis=0)\n",
        "  aug_img = np.append(aug_img, tf.reshape(b2, [1,224,224,3]), axis=0)\n",
        "  #aug_img = np.append(aug_img, tf.reshape(fr, [1,224,224,3]), axis=0)\n",
        "\n",
        "  #label_list에 증강 데이터의 라벨 추가\n",
        "  aug_label = np.append(aug_label, lab)\n",
        "  aug_label = np.append(aug_label, lab)\n",
        "  aug_label = np.append(aug_label, lab)\n",
        "  aug_label = np.append(aug_label, lab)\n",
        "  #aug_label = np.append(aug_label, lab)\n"
      ],
      "metadata": {
        "id": "Nr9bnd6-ePct"
      },
      "execution_count": null,
      "outputs": []
    },
    {
      "cell_type": "code",
      "source": [
        "#증강 후 데이터 개수 및 shape\n",
        "aug_label.shape, aug_img.shape"
      ],
      "metadata": {
        "colab": {
          "base_uri": "https://localhost:8080/"
        },
        "id": "DEeP5PTxjO16",
        "outputId": "b754c9ce-bcef-4478-81a2-d33c12237603"
      },
      "execution_count": null,
      "outputs": [
        {
          "output_type": "execute_result",
          "data": {
            "text/plain": [
              "((2910,), (2910, 224, 224, 3))"
            ]
          },
          "metadata": {},
          "execution_count": 11
        }
      ]
    },
    {
      "cell_type": "code",
      "source": [
        "np.bincount(y_train)"
      ],
      "metadata": {
        "colab": {
          "base_uri": "https://localhost:8080/"
        },
        "id": "dnTfPIU14KmU",
        "outputId": "e27d5a54-23de-4110-97cc-52b0176f6844"
      },
      "execution_count": null,
      "outputs": [
        {
          "output_type": "execute_result",
          "data": {
            "text/plain": [
              "array([109,  66,  23,  73, 159,  34,  54,  64])"
            ]
          },
          "metadata": {},
          "execution_count": 12
        }
      ]
    },
    {
      "cell_type": "code",
      "source": [
        "np.bincount(aug_label)"
      ],
      "metadata": {
        "colab": {
          "base_uri": "https://localhost:8080/"
        },
        "id": "AjqwC0gz4EPX",
        "outputId": "70666d38-d390-4ed6-d540-109d29cf659a"
      },
      "execution_count": null,
      "outputs": [
        {
          "output_type": "execute_result",
          "data": {
            "text/plain": [
              "array([545, 330, 115, 365, 795, 170, 270, 320])"
            ]
          },
          "metadata": {},
          "execution_count": 13
        }
      ]
    },
    {
      "cell_type": "markdown",
      "source": [
        "#### 데이터 피클로 저장"
      ],
      "metadata": {
        "id": "WvigCSCVnBLE"
      }
    },
    {
      "cell_type": "code",
      "source": [
        "import pickle\n",
        "\n",
        "# 데이터 저장\n",
        "with open('aug_img.pkl', 'wb') as f:\n",
        "    pickle.dump(aug_img, f)\n",
        "\n",
        "with open('aug_label.pkl', 'wb') as f:\n",
        "    pickle.dump(aug_label, f)\n",
        "\n",
        "# with open('X_test.pkl', 'wb') as f:\n",
        "#     pickle.dump(X_test, f)\n",
        "\n",
        "# with open('y_test.pkl', 'wb') as f:\n",
        "#     pickle.dump(y_test, f)"
      ],
      "metadata": {
        "id": "9TyplQmQnCr4"
      },
      "execution_count": null,
      "outputs": []
    },
    {
      "cell_type": "code",
      "source": [
        "from google.colab import drive\n",
        "drive.mount('/content/drive')"
      ],
      "metadata": {
        "colab": {
          "base_uri": "https://localhost:8080/"
        },
        "id": "Go6TBpge3E1R",
        "outputId": "cc0616b1-f423-4546-feab-1ef7a8013c34"
      },
      "execution_count": null,
      "outputs": [
        {
          "output_type": "stream",
          "name": "stdout",
          "text": [
            "Mounted at /content/drive\n"
          ]
        }
      ]
    },
    {
      "cell_type": "code",
      "source": [
        "# Working Directory 설정\n",
        "import os\n",
        "os.chdir('/content/drive/MyDrive')"
      ],
      "metadata": {
        "id": "MlIlv3Eo3eHt"
      },
      "execution_count": null,
      "outputs": []
    },
    {
      "cell_type": "code",
      "source": [
        "# aug: cropped까지 포함된 증강 데이터셋\n",
        "# aug2: cropped 빠진 증강 데이터셋\n",
        "\n",
        "import pickle\n",
        "\n",
        "# 데이터 로드\n",
        "with open('aug_img.pkl', 'rb') as f:\n",
        "\taug_img = pickle.load(f)\n",
        " \n",
        "with open('aug_label.pkl', 'rb') as f:\n",
        "\taug_label = pickle.load(f)\n",
        "\n",
        "# with open('aug_img2.pkl', 'rb') as f:\n",
        "# \taug_img2 = pickle.load(f)\n",
        " \n",
        "# with open('aug_label2.pkl', 'rb') as f:\n",
        "# \taug_label2 = pickle.load(f)\n",
        " \n",
        "with open('X_test.pkl', 'rb') as f:\n",
        "\tX_test = pickle.load(f)\n",
        " \n",
        "with open('y_test.pkl', 'rb') as f:\n",
        "\ty_test = pickle.load(f)"
      ],
      "metadata": {
        "id": "QDJncXeXnq5r"
      },
      "execution_count": null,
      "outputs": []
    },
    {
      "cell_type": "code",
      "source": [
        "aug_img.shape, aug_label.shape, X_test.shape, y_test.shape\n",
        "#aug_img2.shape, aug_label2.shape,"
      ],
      "metadata": {
        "colab": {
          "base_uri": "https://localhost:8080/"
        },
        "id": "SUc_vZnMFLky",
        "outputId": "44bcc42a-ec4d-4730-c1e9-1828546cd484"
      },
      "execution_count": null,
      "outputs": [
        {
          "output_type": "execute_result",
          "data": {
            "text/plain": [
              "((3492, 224, 224, 3), (3492,), (103, 224, 224, 3), (103,))"
            ]
          },
          "metadata": {},
          "execution_count": 5
        }
      ]
    },
    {
      "cell_type": "code",
      "source": [
        "np.bincount(aug_label), np.bincount(y_test) \n",
        "#np.bincount(aug_label2),"
      ],
      "metadata": {
        "colab": {
          "base_uri": "https://localhost:8080/"
        },
        "id": "i_MFXp9L4l7b",
        "outputId": "b369b07f-ede9-4c26-bba5-9e75a64fcfc9"
      },
      "execution_count": null,
      "outputs": [
        {
          "output_type": "execute_result",
          "data": {
            "text/plain": [
              "(array([624, 366, 138, 462, 978, 198, 342, 384]),\n",
              " array([17, 15,  1, 13, 29,  6,  7, 15]))"
            ]
          },
          "metadata": {},
          "execution_count": 9
        }
      ]
    },
    {
      "cell_type": "markdown",
      "source": [
        "#### train test split (안 돌리는 부분)"
      ],
      "metadata": {
        "id": "2eX3mKlEzKed"
      }
    },
    {
      "cell_type": "code",
      "source": [
        "from sklearn.model_selection import train_test_split\n",
        "\n",
        "X_train, X_test, y_train, y_test = train_test_split(aug_img, aug_label, test_size=0.2, random_state=1116)"
      ],
      "metadata": {
        "id": "SGgpa4jwozeB"
      },
      "execution_count": null,
      "outputs": []
    },
    {
      "cell_type": "code",
      "source": [
        "X_train.shape, y_train.shape, X_test.shape, y_test.shape"
      ],
      "metadata": {
        "colab": {
          "base_uri": "https://localhost:8080/"
        },
        "id": "NCHuel_sozlU",
        "outputId": "1f5d8753-0675-40ef-9df3-dc322daa2d7c"
      },
      "execution_count": null,
      "outputs": [
        {
          "output_type": "execute_result",
          "data": {
            "text/plain": [
              "((2740, 224, 224, 3), (2740,), (685, 224, 224, 3), (685,))"
            ]
          },
          "metadata": {},
          "execution_count": 73
        }
      ]
    },
    {
      "cell_type": "markdown",
      "metadata": {
        "id": "khSG-erQ-77r"
      },
      "source": [
        "#### 2. Build Model\n",
        "* 자유롭게 사용가능한 모델을 만드세요."
      ]
    },
    {
      "cell_type": "markdown",
      "source": [
        "#### vgg16 모델 구조 보기"
      ],
      "metadata": {
        "id": "ml3kXljxrsb3"
      }
    },
    {
      "cell_type": "code",
      "execution_count": null,
      "metadata": {
        "id": "luU2vFon_LZu",
        "colab": {
          "base_uri": "https://localhost:8080/",
          "height": 162,
          "referenced_widgets": [
            "9238da38717b48af9aca36c171cae67f",
            "1b77c99e592242a1911a7932607cddfa",
            "1db6d7232da94c7989fc961f0d3a33d3",
            "2915ef746bca46a9b33a2afe7c418e06",
            "93f3a09a4f65440d814de9d4db4c48db",
            "231ac817032045338e189e8c89656bcc",
            "8bdd62ebe40a4e0199b30c0a9f34ef22",
            "e249b35b30154ee2b7438212d1a09a07",
            "74523357099047ba88678e283c75112b",
            "51140aab9c724fe6be0b8564b39abf82",
            "a1100fd6f35848ea95640b44d2cb1497"
          ]
        },
        "outputId": "2023c97b-1667-4d20-a533-e5b3b683dc85"
      },
      "outputs": [
        {
          "output_type": "stream",
          "name": "stderr",
          "text": [
            "/usr/local/lib/python3.7/dist-packages/torchvision/models/_utils.py:209: UserWarning: The parameter 'pretrained' is deprecated since 0.13 and will be removed in 0.15, please use 'weights' instead.\n",
            "  f\"The parameter '{pretrained_param}' is deprecated since 0.13 and will be removed in 0.15, \"\n",
            "/usr/local/lib/python3.7/dist-packages/torchvision/models/_utils.py:223: UserWarning: Arguments other than a weight enum or `None` for 'weights' are deprecated since 0.13 and will be removed in 0.15. The current behavior is equivalent to passing `weights=VGG16_Weights.IMAGENET1K_V1`. You can also use `weights=VGG16_Weights.DEFAULT` to get the most up-to-date weights.\n",
            "  warnings.warn(msg)\n",
            "Downloading: \"https://download.pytorch.org/models/vgg16-397923af.pth\" to /root/.cache/torch/hub/checkpoints/vgg16-397923af.pth\n"
          ]
        },
        {
          "output_type": "display_data",
          "data": {
            "text/plain": [
              "  0%|          | 0.00/528M [00:00<?, ?B/s]"
            ],
            "application/vnd.jupyter.widget-view+json": {
              "version_major": 2,
              "version_minor": 0,
              "model_id": "9238da38717b48af9aca36c171cae67f"
            }
          },
          "metadata": {}
        }
      ],
      "source": [
        "from torchvision import models\n",
        "\n",
        "# VGG16 불러오기\n",
        "use_pretrained = True\n",
        "vgg16 = models.vgg16(pretrained=use_pretrained)"
      ]
    },
    {
      "cell_type": "code",
      "source": [
        "#vgg16의 구조\n",
        "print(vgg16)"
      ],
      "metadata": {
        "colab": {
          "base_uri": "https://localhost:8080/"
        },
        "id": "tfVcGrB94Vy3",
        "outputId": "e78b0ba0-7491-4928-c93e-f9b641fb3272"
      },
      "execution_count": null,
      "outputs": [
        {
          "output_type": "stream",
          "name": "stdout",
          "text": [
            "VGG(\n",
            "  (features): Sequential(\n",
            "    (0): Conv2d(3, 64, kernel_size=(3, 3), stride=(1, 1), padding=(1, 1))\n",
            "    (1): ReLU(inplace=True)\n",
            "    (2): Conv2d(64, 64, kernel_size=(3, 3), stride=(1, 1), padding=(1, 1))\n",
            "    (3): ReLU(inplace=True)\n",
            "    (4): MaxPool2d(kernel_size=2, stride=2, padding=0, dilation=1, ceil_mode=False)\n",
            "    (5): Conv2d(64, 128, kernel_size=(3, 3), stride=(1, 1), padding=(1, 1))\n",
            "    (6): ReLU(inplace=True)\n",
            "    (7): Conv2d(128, 128, kernel_size=(3, 3), stride=(1, 1), padding=(1, 1))\n",
            "    (8): ReLU(inplace=True)\n",
            "    (9): MaxPool2d(kernel_size=2, stride=2, padding=0, dilation=1, ceil_mode=False)\n",
            "    (10): Conv2d(128, 256, kernel_size=(3, 3), stride=(1, 1), padding=(1, 1))\n",
            "    (11): ReLU(inplace=True)\n",
            "    (12): Conv2d(256, 256, kernel_size=(3, 3), stride=(1, 1), padding=(1, 1))\n",
            "    (13): ReLU(inplace=True)\n",
            "    (14): Conv2d(256, 256, kernel_size=(3, 3), stride=(1, 1), padding=(1, 1))\n",
            "    (15): ReLU(inplace=True)\n",
            "    (16): MaxPool2d(kernel_size=2, stride=2, padding=0, dilation=1, ceil_mode=False)\n",
            "    (17): Conv2d(256, 512, kernel_size=(3, 3), stride=(1, 1), padding=(1, 1))\n",
            "    (18): ReLU(inplace=True)\n",
            "    (19): Conv2d(512, 512, kernel_size=(3, 3), stride=(1, 1), padding=(1, 1))\n",
            "    (20): ReLU(inplace=True)\n",
            "    (21): Conv2d(512, 512, kernel_size=(3, 3), stride=(1, 1), padding=(1, 1))\n",
            "    (22): ReLU(inplace=True)\n",
            "    (23): MaxPool2d(kernel_size=2, stride=2, padding=0, dilation=1, ceil_mode=False)\n",
            "    (24): Conv2d(512, 512, kernel_size=(3, 3), stride=(1, 1), padding=(1, 1))\n",
            "    (25): ReLU(inplace=True)\n",
            "    (26): Conv2d(512, 512, kernel_size=(3, 3), stride=(1, 1), padding=(1, 1))\n",
            "    (27): ReLU(inplace=True)\n",
            "    (28): Conv2d(512, 512, kernel_size=(3, 3), stride=(1, 1), padding=(1, 1))\n",
            "    (29): ReLU(inplace=True)\n",
            "    (30): MaxPool2d(kernel_size=2, stride=2, padding=0, dilation=1, ceil_mode=False)\n",
            "  )\n",
            "  (avgpool): AdaptiveAvgPool2d(output_size=(7, 7))\n",
            "  (classifier): Sequential(\n",
            "    (0): Linear(in_features=25088, out_features=4096, bias=True)\n",
            "    (1): ReLU(inplace=True)\n",
            "    (2): Dropout(p=0.5, inplace=False)\n",
            "    (3): Linear(in_features=4096, out_features=4096, bias=True)\n",
            "    (4): ReLU(inplace=True)\n",
            "    (5): Dropout(p=0.5, inplace=False)\n",
            "    (6): Linear(in_features=4096, out_features=1000, bias=True)\n",
            "  )\n",
            ")\n"
          ]
        }
      ]
    },
    {
      "cell_type": "markdown",
      "source": [
        "#### custom vgg16"
      ],
      "metadata": {
        "id": "tZsUNv0mAlfL"
      }
    },
    {
      "cell_type": "code",
      "source": [
        "import tensorflow as tf"
      ],
      "metadata": {
        "id": "fjh29n7J5RZ7"
      },
      "execution_count": null,
      "outputs": []
    },
    {
      "cell_type": "code",
      "source": [
        "inp = tf.keras.layers.Input([224,224,3]) # 배치를 고려하지 않고 인풋 크기만 고려\n",
        "\n",
        "x = tf.keras.layers.Conv2D(filters=64, kernel_size=(3,3), strides=(1, 1), padding='same', activation=\"relu\")(inp)\n",
        "x = tf.keras.layers.Conv2D(filters=64, kernel_size=(3,3), strides=(1, 1), padding='same', activation=\"relu\")(inp)\n",
        "x = tf.keras.layers.MaxPool2D(pool_size=2, strides=2)(x)\n",
        "\n",
        "x = tf.keras.layers.Conv2D(filters=128, kernel_size=(3,3), strides=(1, 1), padding='same', activation=\"relu\")(inp)\n",
        "x = tf.keras.layers.Conv2D(filters=128, kernel_size=(3,3), strides=(1, 1), padding='same', activation=\"relu\")(inp)\n",
        "x = tf.keras.layers.MaxPool2D(pool_size=2, strides=2)(x)\n",
        "\n",
        "x = tf.keras.layers.Conv2D(filters=256, kernel_size=(3,3), strides=(1, 1), padding='same', activation=\"relu\")(inp)\n",
        "x = tf.keras.layers.Conv2D(filters=256, kernel_size=(3,3), strides=(1, 1), padding='same', activation=\"relu\")(inp)\n",
        "x = tf.keras.layers.Conv2D(filters=256, kernel_size=(3,3), strides=(1, 1), padding='same', activation=\"relu\")(inp)\n",
        "x = tf.keras.layers.MaxPool2D(pool_size=2, strides=2)(x)\n",
        "\n",
        "x = tf.keras.layers.Conv2D(filters=512, kernel_size=(3,3), strides=(1, 1), padding='same', activation=\"relu\")(inp)\n",
        "x = tf.keras.layers.Conv2D(filters=512, kernel_size=(3,3), strides=(1, 1), padding='same', activation=\"relu\")(inp)\n",
        "x = tf.keras.layers.Conv2D(filters=512, kernel_size=(3,3), strides=(1, 1), padding='same', activation=\"relu\")(inp)\n",
        "x = tf.keras.layers.MaxPool2D(pool_size=2, strides=2)(x)\n",
        "\n",
        "x = tf.keras.layers.Conv2D(filters=512, kernel_size=(3,3), strides=(1, 1), padding='same', activation=\"relu\")(inp)\n",
        "x = tf.keras.layers.Conv2D(filters=512, kernel_size=(3,3), strides=(1, 1), padding='same', activation=\"relu\")(inp)\n",
        "x = tf.keras.layers.Conv2D(filters=512, kernel_size=(3,3), strides=(1, 1), padding='same', activation=\"relu\")(inp)\n",
        "x = tf.keras.layers.MaxPool2D(pool_size=2, strides=2)(x)\n",
        "\n",
        "x = tf.keras.layers.GlobalAveragePooling2D()(x)\n",
        "\n",
        "x = tf.keras.layers.Flatten()(x)\n",
        "x = tf.keras.layers.Dense(4096, activation=\"relu\")(x)\n",
        "#tf.keras.layers.Dropout(rate=0.5) #데이터 개수가 많지 않으니까 일단 빼 봄\n",
        "x = tf.keras.layers.Dense(4096, activation=\"relu\")(x)\n",
        "#tf.keras.layers.Dropout(rate=0.5)\n",
        "out = tf.keras.layers.Dense(8, activation=\"softmax\")(x) #8개 레이블로 분류, softmax로 확률값 추출\n",
        "\n",
        "model = tf.keras.Model(inp, out)"
      ],
      "metadata": {
        "id": "Vdh5gcrI4no3"
      },
      "execution_count": null,
      "outputs": []
    },
    {
      "cell_type": "code",
      "source": [
        "model.summary()"
      ],
      "metadata": {
        "colab": {
          "base_uri": "https://localhost:8080/"
        },
        "id": "Bb5Q7WBg9CqQ",
        "outputId": "1aca1ee3-3d13-4e32-ba5d-7224cbb90278"
      },
      "execution_count": null,
      "outputs": [
        {
          "output_type": "stream",
          "name": "stdout",
          "text": [
            "Model: \"model\"\n",
            "_________________________________________________________________\n",
            " Layer (type)                Output Shape              Param #   \n",
            "=================================================================\n",
            " input_1 (InputLayer)        [(None, 224, 224, 3)]     0         \n",
            "                                                                 \n",
            " conv2d_12 (Conv2D)          (None, 224, 224, 512)     14336     \n",
            "                                                                 \n",
            " max_pooling2d_4 (MaxPooling  (None, 112, 112, 512)    0         \n",
            " 2D)                                                             \n",
            "                                                                 \n",
            " global_average_pooling2d (G  (None, 512)              0         \n",
            " lobalAveragePooling2D)                                          \n",
            "                                                                 \n",
            " flatten (Flatten)           (None, 512)               0         \n",
            "                                                                 \n",
            " dense (Dense)               (None, 4096)              2101248   \n",
            "                                                                 \n",
            " dense_1 (Dense)             (None, 4096)              16781312  \n",
            "                                                                 \n",
            " dense_2 (Dense)             (None, 8)                 32776     \n",
            "                                                                 \n",
            "=================================================================\n",
            "Total params: 18,929,672\n",
            "Trainable params: 18,929,672\n",
            "Non-trainable params: 0\n",
            "_________________________________________________________________\n"
          ]
        }
      ]
    },
    {
      "cell_type": "markdown",
      "source": [
        "#### custom CNN"
      ],
      "metadata": {
        "id": "nv5UfjraBGB3"
      }
    },
    {
      "cell_type": "code",
      "source": [
        "inp = tf.keras.layers.Input([224,224,3]) # 배치를 고려하지 않고 인풋 크기만 고려\n",
        "\n",
        "x = tf.keras.layers.Conv2D(filters=32, kernel_size=(3,3), activation=\"relu\")(inp)\n",
        "x = tf.keras.layers.Conv2D(filters=32, kernel_size=(3,3), activation=\"relu\")(x)\n",
        "x = tf.keras.layers.MaxPool2D()(x)\n",
        "\n",
        "x = tf.keras.layers.Conv2D(filters=32, kernel_size=(3,3), activation=\"relu\")(x)\n",
        "x = tf.keras.layers.Conv2D(filters=32, kernel_size=(3,3), activation=\"relu\")(x)\n",
        "x = tf.keras.layers.MaxPool2D()(x)\n",
        "\n",
        "x = tf.keras.layers.Flatten()(x)\n",
        "x = tf.keras.layers.Dense(32, activation=\"relu\")(x)\n",
        "out = tf.keras.layers.Dense(8, activation=\"softmax\")(x) #4개 레이블로 분류, softmax로 확률값 추출\n",
        "\n",
        "model2 = tf.keras.Model(inp, out)"
      ],
      "metadata": {
        "id": "8few7YolBHn8"
      },
      "execution_count": null,
      "outputs": []
    },
    {
      "cell_type": "code",
      "source": [
        "model2.summary()"
      ],
      "metadata": {
        "colab": {
          "base_uri": "https://localhost:8080/"
        },
        "id": "PYd2_DaiBTD0",
        "outputId": "189bd1a5-05ab-4b61-85b0-d900c6718e16"
      },
      "execution_count": null,
      "outputs": [
        {
          "output_type": "stream",
          "name": "stdout",
          "text": [
            "Model: \"model_1\"\n",
            "_________________________________________________________________\n",
            " Layer (type)                Output Shape              Param #   \n",
            "=================================================================\n",
            " input_3 (InputLayer)        [(None, 224, 224, 3)]     0         \n",
            "                                                                 \n",
            " conv2d_26 (Conv2D)          (None, 222, 222, 32)      896       \n",
            "                                                                 \n",
            " conv2d_27 (Conv2D)          (None, 220, 220, 32)      9248      \n",
            "                                                                 \n",
            " max_pooling2d_10 (MaxPoolin  (None, 110, 110, 32)     0         \n",
            " g2D)                                                            \n",
            "                                                                 \n",
            " conv2d_28 (Conv2D)          (None, 108, 108, 32)      9248      \n",
            "                                                                 \n",
            " conv2d_29 (Conv2D)          (None, 106, 106, 32)      9248      \n",
            "                                                                 \n",
            " max_pooling2d_11 (MaxPoolin  (None, 53, 53, 32)       0         \n",
            " g2D)                                                            \n",
            "                                                                 \n",
            " flatten_2 (Flatten)         (None, 89888)             0         \n",
            "                                                                 \n",
            " dense_4 (Dense)             (None, 32)                2876448   \n",
            "                                                                 \n",
            " dense_5 (Dense)             (None, 8)                 264       \n",
            "                                                                 \n",
            "=================================================================\n",
            "Total params: 2,905,352\n",
            "Trainable params: 2,905,352\n",
            "Non-trainable params: 0\n",
            "_________________________________________________________________\n"
          ]
        }
      ]
    },
    {
      "cell_type": "markdown",
      "source": [
        "#### resnet18(만들다가 실패)"
      ],
      "metadata": {
        "id": "AsXhbciKsTSS"
      }
    },
    {
      "cell_type": "code",
      "source": [
        "inp = tf.keras.layers.Input([224,224,3])\n",
        "\n",
        "x = tf.keras.layers.Conv2D(filters=64, kernel_size=7, padding = 'same', strides = (2,2))(inp)\n",
        "x = tf.keras.layers.BatchNormalization()(x)\n",
        "x = tf.keras.layers.Activation('relu')(x)\n",
        "x = tf.keras.layers.MaxPool2D(pool_size=3, strides=2, padding='same')(x)\n",
        "\n",
        "x = tf.keras.layers.Conv2D(filters=64, kernel_size=3, padding = 'same', strides = (1,1))(inp)\n",
        "x = tf.keras.layers.BatchNormalization()(x)\n",
        "x = tf.keras.layers.Activation('relu')(x)\n",
        "x = tf.keras.layers.Conv2D(filters=64, kernel_size=3, padding = 'same', strides = (1,1))(inp)\n",
        "x = tf.keras.layers.BatchNormalization()(x)\n",
        "\n",
        "x = tf.keras.layers.Conv2D(filters=64, kernel_size=3, padding = 'same', strides = (1,1))(inp)\n",
        "x = tf.keras.layers.BatchNormalization()(x)\n",
        "x = tf.keras.layers.Activation('relu')(x)\n",
        "x = tf.keras.layers.Conv2D(filters=64, kernel_size=3, padding = 'same', strides = (1,1))(inp)\n",
        "x = tf.keras.layers.BatchNormalization()(x)\n",
        "\n",
        "x = tf.keras.layers.Conv2D(filters=128, kernel_size=3, padding = 'same', strides = (2,2))(inp)\n",
        "x = tf.keras.layers.BatchNormalization()(x)\n",
        "x = tf.keras.layers.Activation('relu')(x)\n",
        "x = tf.keras.layers.Conv2D(filters=128, kernel_size=3, padding = 'same', strides = (1,1))(inp)\n",
        "x = tf.keras.layers.BatchNormalization()(x)\n",
        "\n"
      ],
      "metadata": {
        "id": "IuBo3LyEsRy_"
      },
      "execution_count": null,
      "outputs": []
    },
    {
      "cell_type": "markdown",
      "metadata": {
        "id": "Lw_HFavY_MFG"
      },
      "source": [
        "#### 3. Train Model\n",
        "* 데이터셋을 훈련하세요."
      ]
    },
    {
      "cell_type": "markdown",
      "source": [
        "#### VGG16_aug2 train"
      ],
      "metadata": {
        "id": "Jlba2mj3pChw"
      }
    },
    {
      "cell_type": "code",
      "source": [
        "adam = tf.keras.optimizers.Adam(learning_rate=0.001)\n",
        "sce_loss = tf.keras.losses.SparseCategoricalCrossentropy()"
      ],
      "metadata": {
        "id": "oExuI51z_Tt8"
      },
      "execution_count": null,
      "outputs": []
    },
    {
      "cell_type": "code",
      "execution_count": null,
      "metadata": {
        "id": "mmGxIs9G_OBE"
      },
      "outputs": [],
      "source": [
        "# Your Code Here\n",
        "\n",
        "model.compile(\n",
        "    optimizer = adam,\n",
        "    loss = sce_loss,\n",
        "    metrics=[\"acc\"]\n",
        ")"
      ]
    },
    {
      "cell_type": "code",
      "source": [
        "model.fit(\n",
        "    aug_img, aug_label,\n",
        "    epochs=100,\n",
        "    batch_size=16,\n",
        "    validation_split=0.2\n",
        ")"
      ],
      "metadata": {
        "colab": {
          "base_uri": "https://localhost:8080/"
        },
        "id": "hjfwlU0g_dWr",
        "outputId": "74d6078e-205c-4344-9916-464fc7a550af"
      },
      "execution_count": null,
      "outputs": [
        {
          "output_type": "stream",
          "name": "stdout",
          "text": [
            "Epoch 1/100\n",
            "146/146 [==============================] - 5s 33ms/step - loss: 4.2773 - acc: 0.2341 - val_loss: 1.9095 - val_acc: 0.2766\n",
            "Epoch 2/100\n",
            "146/146 [==============================] - 5s 31ms/step - loss: 1.8913 - acc: 0.2650 - val_loss: 1.9137 - val_acc: 0.2698\n",
            "Epoch 3/100\n",
            "146/146 [==============================] - 5s 31ms/step - loss: 1.8949 - acc: 0.2762 - val_loss: 2.0111 - val_acc: 0.1942\n",
            "Epoch 4/100\n",
            "146/146 [==============================] - 5s 31ms/step - loss: 1.8825 - acc: 0.2753 - val_loss: 1.9197 - val_acc: 0.2887\n",
            "Epoch 5/100\n",
            "146/146 [==============================] - 5s 31ms/step - loss: 1.8716 - acc: 0.2826 - val_loss: 1.8954 - val_acc: 0.2491\n",
            "Epoch 6/100\n",
            "146/146 [==============================] - 5s 31ms/step - loss: 1.8427 - acc: 0.2895 - val_loss: 1.8278 - val_acc: 0.2990\n",
            "Epoch 7/100\n",
            "146/146 [==============================] - 5s 31ms/step - loss: 1.8240 - acc: 0.3084 - val_loss: 1.8174 - val_acc: 0.2835\n",
            "Epoch 8/100\n",
            "146/146 [==============================] - 5s 31ms/step - loss: 1.8322 - acc: 0.2934 - val_loss: 1.8228 - val_acc: 0.2680\n",
            "Epoch 9/100\n",
            "146/146 [==============================] - 5s 31ms/step - loss: 1.8431 - acc: 0.2951 - val_loss: 2.0347 - val_acc: 0.2595\n",
            "Epoch 10/100\n",
            "146/146 [==============================] - 5s 31ms/step - loss: 1.8060 - acc: 0.3119 - val_loss: 1.8313 - val_acc: 0.3230\n",
            "Epoch 11/100\n",
            "146/146 [==============================] - 5s 31ms/step - loss: 1.7945 - acc: 0.3162 - val_loss: 1.8564 - val_acc: 0.2749\n",
            "Epoch 12/100\n",
            "146/146 [==============================] - 5s 31ms/step - loss: 1.7770 - acc: 0.3196 - val_loss: 1.8238 - val_acc: 0.2904\n",
            "Epoch 13/100\n",
            "146/146 [==============================] - 5s 31ms/step - loss: 1.7601 - acc: 0.3213 - val_loss: 1.8838 - val_acc: 0.2629\n",
            "Epoch 14/100\n",
            "146/146 [==============================] - 5s 31ms/step - loss: 1.7314 - acc: 0.3282 - val_loss: 1.7988 - val_acc: 0.2646\n",
            "Epoch 15/100\n",
            "146/146 [==============================] - 5s 31ms/step - loss: 1.7461 - acc: 0.3346 - val_loss: 1.7793 - val_acc: 0.2835\n",
            "Epoch 16/100\n",
            "146/146 [==============================] - 5s 31ms/step - loss: 1.6879 - acc: 0.3363 - val_loss: 1.8189 - val_acc: 0.2784\n",
            "Epoch 17/100\n",
            "146/146 [==============================] - 5s 31ms/step - loss: 1.6332 - acc: 0.3741 - val_loss: 1.8341 - val_acc: 0.2801\n",
            "Epoch 18/100\n",
            "146/146 [==============================] - 5s 31ms/step - loss: 1.6783 - acc: 0.3600 - val_loss: 1.8536 - val_acc: 0.2698\n",
            "Epoch 19/100\n",
            "146/146 [==============================] - 5s 31ms/step - loss: 1.6104 - acc: 0.3720 - val_loss: 1.8088 - val_acc: 0.3024\n",
            "Epoch 20/100\n",
            "146/146 [==============================] - 5s 31ms/step - loss: 1.5754 - acc: 0.3875 - val_loss: 1.7625 - val_acc: 0.3162\n",
            "Epoch 21/100\n",
            "146/146 [==============================] - 5s 31ms/step - loss: 1.5727 - acc: 0.3909 - val_loss: 1.7533 - val_acc: 0.3213\n",
            "Epoch 22/100\n",
            "146/146 [==============================] - 5s 31ms/step - loss: 1.5844 - acc: 0.3969 - val_loss: 1.7817 - val_acc: 0.2766\n",
            "Epoch 23/100\n",
            "146/146 [==============================] - 5s 31ms/step - loss: 1.4889 - acc: 0.4214 - val_loss: 1.7610 - val_acc: 0.2938\n",
            "Epoch 24/100\n",
            "146/146 [==============================] - 5s 31ms/step - loss: 1.5106 - acc: 0.4094 - val_loss: 1.7810 - val_acc: 0.3162\n",
            "Epoch 25/100\n",
            "146/146 [==============================] - 5s 31ms/step - loss: 1.4766 - acc: 0.4296 - val_loss: 1.8021 - val_acc: 0.3299\n",
            "Epoch 26/100\n",
            "146/146 [==============================] - 5s 31ms/step - loss: 1.4622 - acc: 0.4497 - val_loss: 1.7385 - val_acc: 0.3213\n",
            "Epoch 27/100\n",
            "146/146 [==============================] - 5s 31ms/step - loss: 1.4086 - acc: 0.4562 - val_loss: 1.7542 - val_acc: 0.3505\n",
            "Epoch 28/100\n",
            "146/146 [==============================] - 5s 31ms/step - loss: 1.3993 - acc: 0.4725 - val_loss: 1.7270 - val_acc: 0.3746\n",
            "Epoch 29/100\n",
            "146/146 [==============================] - 5s 31ms/step - loss: 1.3366 - acc: 0.4966 - val_loss: 1.7196 - val_acc: 0.3282\n",
            "Epoch 30/100\n",
            "146/146 [==============================] - 5s 31ms/step - loss: 1.2945 - acc: 0.5185 - val_loss: 1.8173 - val_acc: 0.3454\n",
            "Epoch 31/100\n",
            "146/146 [==============================] - 5s 31ms/step - loss: 1.2760 - acc: 0.5168 - val_loss: 1.7594 - val_acc: 0.3385\n",
            "Epoch 32/100\n",
            "146/146 [==============================] - 5s 31ms/step - loss: 1.3094 - acc: 0.5056 - val_loss: 1.7368 - val_acc: 0.3763\n",
            "Epoch 33/100\n",
            "146/146 [==============================] - 5s 31ms/step - loss: 1.2624 - acc: 0.5236 - val_loss: 1.7689 - val_acc: 0.3660\n",
            "Epoch 34/100\n",
            "146/146 [==============================] - 5s 31ms/step - loss: 1.2184 - acc: 0.5314 - val_loss: 1.6921 - val_acc: 0.3866\n",
            "Epoch 35/100\n",
            "146/146 [==============================] - 5s 31ms/step - loss: 1.1678 - acc: 0.5588 - val_loss: 1.6113 - val_acc: 0.3746\n",
            "Epoch 36/100\n",
            "146/146 [==============================] - 5s 31ms/step - loss: 1.0927 - acc: 0.5769 - val_loss: 1.6818 - val_acc: 0.3918\n",
            "Epoch 37/100\n",
            "146/146 [==============================] - 5s 31ms/step - loss: 1.1095 - acc: 0.5700 - val_loss: 1.5970 - val_acc: 0.3969\n",
            "Epoch 38/100\n",
            "146/146 [==============================] - 5s 31ms/step - loss: 1.0655 - acc: 0.5868 - val_loss: 1.6738 - val_acc: 0.4210\n",
            "Epoch 39/100\n",
            "146/146 [==============================] - 5s 31ms/step - loss: 1.0847 - acc: 0.5992 - val_loss: 1.7201 - val_acc: 0.3385\n",
            "Epoch 40/100\n",
            "146/146 [==============================] - 5s 31ms/step - loss: 1.0667 - acc: 0.5898 - val_loss: 1.7699 - val_acc: 0.3196\n",
            "Epoch 41/100\n",
            "146/146 [==============================] - 5s 31ms/step - loss: 0.9878 - acc: 0.6310 - val_loss: 1.6311 - val_acc: 0.3763\n",
            "Epoch 42/100\n",
            "146/146 [==============================] - 5s 31ms/step - loss: 1.0855 - acc: 0.5988 - val_loss: 1.8633 - val_acc: 0.4038\n",
            "Epoch 43/100\n",
            "146/146 [==============================] - 5s 31ms/step - loss: 1.0304 - acc: 0.6078 - val_loss: 1.6396 - val_acc: 0.4038\n",
            "Epoch 44/100\n",
            "146/146 [==============================] - 5s 31ms/step - loss: 0.9872 - acc: 0.6310 - val_loss: 1.6224 - val_acc: 0.3832\n",
            "Epoch 45/100\n",
            "146/146 [==============================] - 5s 31ms/step - loss: 0.9082 - acc: 0.6649 - val_loss: 1.6883 - val_acc: 0.3952\n",
            "Epoch 46/100\n",
            "146/146 [==============================] - 5s 31ms/step - loss: 0.9103 - acc: 0.6486 - val_loss: 1.5990 - val_acc: 0.4141\n",
            "Epoch 47/100\n",
            "146/146 [==============================] - 5s 31ms/step - loss: 0.8675 - acc: 0.6710 - val_loss: 1.7190 - val_acc: 0.4175\n",
            "Epoch 48/100\n",
            "146/146 [==============================] - 5s 31ms/step - loss: 0.8309 - acc: 0.6851 - val_loss: 1.7392 - val_acc: 0.4124\n",
            "Epoch 49/100\n",
            "146/146 [==============================] - 5s 31ms/step - loss: 0.8452 - acc: 0.6838 - val_loss: 1.6719 - val_acc: 0.4244\n",
            "Epoch 50/100\n",
            "146/146 [==============================] - 5s 31ms/step - loss: 0.7898 - acc: 0.6946 - val_loss: 1.5819 - val_acc: 0.4553\n",
            "Epoch 51/100\n",
            "146/146 [==============================] - 5s 31ms/step - loss: 0.7975 - acc: 0.7027 - val_loss: 1.9769 - val_acc: 0.3986\n",
            "Epoch 52/100\n",
            "146/146 [==============================] - 5s 31ms/step - loss: 0.7082 - acc: 0.7268 - val_loss: 1.5690 - val_acc: 0.4347\n",
            "Epoch 53/100\n",
            "146/146 [==============================] - 5s 31ms/step - loss: 0.6830 - acc: 0.7367 - val_loss: 1.8081 - val_acc: 0.4450\n",
            "Epoch 54/100\n",
            "146/146 [==============================] - 5s 31ms/step - loss: 0.7076 - acc: 0.7277 - val_loss: 1.6550 - val_acc: 0.4416\n",
            "Epoch 55/100\n",
            "146/146 [==============================] - 5s 31ms/step - loss: 0.6650 - acc: 0.7487 - val_loss: 1.6592 - val_acc: 0.4536\n",
            "Epoch 56/100\n",
            "146/146 [==============================] - 5s 31ms/step - loss: 0.8336 - acc: 0.6967 - val_loss: 1.7984 - val_acc: 0.4158\n",
            "Epoch 57/100\n",
            "146/146 [==============================] - 5s 31ms/step - loss: 0.6248 - acc: 0.7633 - val_loss: 1.6118 - val_acc: 0.4691\n",
            "Epoch 58/100\n",
            "146/146 [==============================] - 5s 31ms/step - loss: 0.7164 - acc: 0.7298 - val_loss: 1.6306 - val_acc: 0.4381\n",
            "Epoch 59/100\n",
            "146/146 [==============================] - 5s 31ms/step - loss: 0.6223 - acc: 0.7706 - val_loss: 1.6902 - val_acc: 0.4296\n",
            "Epoch 60/100\n",
            "146/146 [==============================] - 5s 31ms/step - loss: 0.6135 - acc: 0.7762 - val_loss: 1.6859 - val_acc: 0.4966\n",
            "Epoch 61/100\n",
            "146/146 [==============================] - 5s 31ms/step - loss: 0.5738 - acc: 0.7878 - val_loss: 1.5491 - val_acc: 0.4759\n",
            "Epoch 62/100\n",
            "146/146 [==============================] - 5s 31ms/step - loss: 0.5360 - acc: 0.7942 - val_loss: 1.7396 - val_acc: 0.4622\n",
            "Epoch 63/100\n",
            "146/146 [==============================] - 5s 31ms/step - loss: 0.6068 - acc: 0.7663 - val_loss: 1.6426 - val_acc: 0.4966\n",
            "Epoch 64/100\n",
            "146/146 [==============================] - 5s 31ms/step - loss: 0.5794 - acc: 0.7719 - val_loss: 1.7453 - val_acc: 0.4364\n",
            "Epoch 65/100\n",
            "146/146 [==============================] - 5s 31ms/step - loss: 0.5841 - acc: 0.7899 - val_loss: 1.8310 - val_acc: 0.4570\n",
            "Epoch 66/100\n",
            "146/146 [==============================] - 5s 31ms/step - loss: 0.4667 - acc: 0.8131 - val_loss: 1.6957 - val_acc: 0.4914\n",
            "Epoch 67/100\n",
            "146/146 [==============================] - 5s 31ms/step - loss: 0.4502 - acc: 0.8269 - val_loss: 1.5608 - val_acc: 0.5189\n",
            "Epoch 68/100\n",
            "146/146 [==============================] - 5s 31ms/step - loss: 0.4853 - acc: 0.8149 - val_loss: 1.8799 - val_acc: 0.5017\n",
            "Epoch 69/100\n",
            "146/146 [==============================] - 5s 31ms/step - loss: 0.7217 - acc: 0.7552 - val_loss: 1.7949 - val_acc: 0.4605\n",
            "Epoch 70/100\n",
            "146/146 [==============================] - 5s 31ms/step - loss: 0.5150 - acc: 0.8153 - val_loss: 1.7616 - val_acc: 0.4639\n",
            "Epoch 71/100\n",
            "146/146 [==============================] - 5s 31ms/step - loss: 0.5097 - acc: 0.8063 - val_loss: 1.7638 - val_acc: 0.5000\n",
            "Epoch 72/100\n",
            "146/146 [==============================] - 5s 31ms/step - loss: 0.4522 - acc: 0.8299 - val_loss: 1.5542 - val_acc: 0.5000\n",
            "Epoch 73/100\n",
            "146/146 [==============================] - 5s 31ms/step - loss: 0.4752 - acc: 0.8308 - val_loss: 1.7048 - val_acc: 0.4605\n",
            "Epoch 74/100\n",
            "146/146 [==============================] - 5s 31ms/step - loss: 0.4584 - acc: 0.8299 - val_loss: 1.7051 - val_acc: 0.5052\n",
            "Epoch 75/100\n",
            "146/146 [==============================] - 5s 31ms/step - loss: 0.4037 - acc: 0.8492 - val_loss: 1.6519 - val_acc: 0.5481\n",
            "Epoch 76/100\n",
            "146/146 [==============================] - 5s 31ms/step - loss: 0.4545 - acc: 0.8419 - val_loss: 2.1867 - val_acc: 0.5103\n",
            "Epoch 77/100\n",
            "146/146 [==============================] - 5s 31ms/step - loss: 0.6140 - acc: 0.7758 - val_loss: 1.8140 - val_acc: 0.4450\n",
            "Epoch 78/100\n",
            "146/146 [==============================] - 5s 31ms/step - loss: 0.4068 - acc: 0.8544 - val_loss: 1.6596 - val_acc: 0.5155\n",
            "Epoch 79/100\n",
            "146/146 [==============================] - 5s 31ms/step - loss: 0.3798 - acc: 0.8514 - val_loss: 2.0345 - val_acc: 0.4914\n",
            "Epoch 80/100\n",
            "146/146 [==============================] - 5s 31ms/step - loss: 0.3883 - acc: 0.8565 - val_loss: 1.7979 - val_acc: 0.5086\n",
            "Epoch 81/100\n",
            "146/146 [==============================] - 5s 31ms/step - loss: 0.4081 - acc: 0.8535 - val_loss: 1.6614 - val_acc: 0.5275\n",
            "Epoch 82/100\n",
            "146/146 [==============================] - 5s 31ms/step - loss: 0.3380 - acc: 0.8741 - val_loss: 1.8389 - val_acc: 0.5189\n",
            "Epoch 83/100\n",
            "146/146 [==============================] - 5s 31ms/step - loss: 0.3282 - acc: 0.8771 - val_loss: 2.0022 - val_acc: 0.4605\n",
            "Epoch 84/100\n",
            "146/146 [==============================] - 5s 31ms/step - loss: 0.7019 - acc: 0.7818 - val_loss: 2.1660 - val_acc: 0.4278\n",
            "Epoch 85/100\n",
            "146/146 [==============================] - 5s 31ms/step - loss: 0.5416 - acc: 0.8110 - val_loss: 1.7759 - val_acc: 0.5017\n",
            "Epoch 86/100\n",
            "146/146 [==============================] - 5s 31ms/step - loss: 0.3827 - acc: 0.8561 - val_loss: 1.7169 - val_acc: 0.5601\n",
            "Epoch 87/100\n",
            "146/146 [==============================] - 5s 31ms/step - loss: 0.3129 - acc: 0.8866 - val_loss: 1.7623 - val_acc: 0.5275\n",
            "Epoch 88/100\n",
            "146/146 [==============================] - 5s 31ms/step - loss: 0.3006 - acc: 0.8853 - val_loss: 1.7037 - val_acc: 0.5601\n",
            "Epoch 89/100\n",
            "146/146 [==============================] - 5s 31ms/step - loss: 0.3624 - acc: 0.8630 - val_loss: 1.9558 - val_acc: 0.4759\n",
            "Epoch 90/100\n",
            "146/146 [==============================] - 5s 31ms/step - loss: 0.4497 - acc: 0.8252 - val_loss: 1.9004 - val_acc: 0.5137\n",
            "Epoch 91/100\n",
            "146/146 [==============================] - 5s 31ms/step - loss: 0.6551 - acc: 0.7848 - val_loss: 2.0911 - val_acc: 0.5000\n",
            "Epoch 92/100\n",
            "146/146 [==============================] - 5s 31ms/step - loss: 0.3834 - acc: 0.8664 - val_loss: 1.7092 - val_acc: 0.5481\n",
            "Epoch 93/100\n",
            "146/146 [==============================] - 5s 31ms/step - loss: 0.3053 - acc: 0.8857 - val_loss: 1.7189 - val_acc: 0.5653\n",
            "Epoch 94/100\n",
            "146/146 [==============================] - 5s 31ms/step - loss: 0.2494 - acc: 0.9072 - val_loss: 1.7647 - val_acc: 0.5344\n",
            "Epoch 95/100\n",
            "146/146 [==============================] - 5s 31ms/step - loss: 0.3397 - acc: 0.8737 - val_loss: 1.9622 - val_acc: 0.5155\n",
            "Epoch 96/100\n",
            "146/146 [==============================] - 5s 31ms/step - loss: 0.2630 - acc: 0.8978 - val_loss: 1.7733 - val_acc: 0.5722\n",
            "Epoch 97/100\n",
            "146/146 [==============================] - 5s 31ms/step - loss: 0.3141 - acc: 0.8875 - val_loss: 2.2168 - val_acc: 0.4828\n",
            "Epoch 98/100\n",
            "146/146 [==============================] - 5s 31ms/step - loss: 0.3155 - acc: 0.8797 - val_loss: 2.1509 - val_acc: 0.4948\n",
            "Epoch 99/100\n",
            "146/146 [==============================] - 5s 31ms/step - loss: 0.3654 - acc: 0.8587 - val_loss: 1.9567 - val_acc: 0.5430\n",
            "Epoch 100/100\n",
            "146/146 [==============================] - 5s 31ms/step - loss: 0.6322 - acc: 0.7955 - val_loss: 2.0468 - val_acc: 0.4880\n"
          ]
        },
        {
          "output_type": "execute_result",
          "data": {
            "text/plain": [
              "<keras.callbacks.History at 0x7f8cd6a15bd0>"
            ]
          },
          "metadata": {},
          "execution_count": 54
        }
      ]
    },
    {
      "cell_type": "code",
      "source": [
        "model.save('vgg16trained_aug2_bs16')"
      ],
      "metadata": {
        "colab": {
          "base_uri": "https://localhost:8080/"
        },
        "id": "DvkkEn7RVdCr",
        "outputId": "264f1b86-8db0-4b4f-a02e-5adffd259386"
      },
      "execution_count": null,
      "outputs": [
        {
          "output_type": "stream",
          "name": "stderr",
          "text": [
            "WARNING:absl:Found untraced functions such as _jit_compiled_convolution_op while saving (showing 1 of 1). These functions will not be directly callable after loading.\n"
          ]
        }
      ]
    },
    {
      "cell_type": "code",
      "source": [
        "pred = model.predict(X_test)\n",
        "pred.shape # (batch, num_class)"
      ],
      "metadata": {
        "colab": {
          "base_uri": "https://localhost:8080/"
        },
        "id": "L1oLzbIl_uLt",
        "outputId": "3644e190-ae15-4608-c514-f00d6b35ca7e"
      },
      "execution_count": null,
      "outputs": [
        {
          "output_type": "stream",
          "name": "stdout",
          "text": [
            "4/4 [==============================] - 0s 22ms/step\n"
          ]
        },
        {
          "output_type": "execute_result",
          "data": {
            "text/plain": [
              "(103, 8)"
            ]
          },
          "metadata": {},
          "execution_count": 55
        }
      ]
    },
    {
      "cell_type": "code",
      "source": [
        "from sklearn.metrics import classification_report\n",
        "print(classification_report(np.argmax(pred, axis=1), y_test))"
      ],
      "metadata": {
        "colab": {
          "base_uri": "https://localhost:8080/"
        },
        "id": "ulpXL_Tk_1sF",
        "outputId": "3e7965bd-80a5-4906-dba8-86bf2ae3c0f4"
      },
      "execution_count": null,
      "outputs": [
        {
          "output_type": "stream",
          "name": "stdout",
          "text": [
            "              precision    recall  f1-score   support\n",
            "\n",
            "           0       0.50      0.29      0.36        21\n",
            "           1       0.50      0.62      0.56         8\n",
            "           2       0.00      0.00      0.00         3\n",
            "           3       0.35      0.46      0.40        13\n",
            "           4       0.58      0.51      0.54        37\n",
            "           5       0.20      0.25      0.22         4\n",
            "           6       0.20      0.29      0.24         7\n",
            "           7       0.47      0.70      0.56        10\n",
            "\n",
            "    accuracy                           0.45       103\n",
            "   macro avg       0.35      0.39      0.36       103\n",
            "weighted avg       0.46      0.45      0.44       103\n",
            "\n"
          ]
        }
      ]
    },
    {
      "cell_type": "markdown",
      "source": [
        "#### vgg16_aug train"
      ],
      "metadata": {
        "id": "fvdI2BxaWYOn"
      }
    },
    {
      "cell_type": "code",
      "source": [
        "inp = tf.keras.layers.Input([224,224,3]) # 배치를 고려하지 않고 인풋 크기만 고려\n",
        "\n",
        "x = tf.keras.layers.Conv2D(filters=64, kernel_size=(3,3), strides=(1, 1), padding='same', activation=\"relu\")(inp)\n",
        "x = tf.keras.layers.Conv2D(filters=64, kernel_size=(3,3), strides=(1, 1), padding='same', activation=\"relu\")(inp)\n",
        "x = tf.keras.layers.MaxPool2D(pool_size=2, strides=2)(x)\n",
        "\n",
        "x = tf.keras.layers.Conv2D(filters=128, kernel_size=(3,3), strides=(1, 1), padding='same', activation=\"relu\")(inp)\n",
        "x = tf.keras.layers.Conv2D(filters=128, kernel_size=(3,3), strides=(1, 1), padding='same', activation=\"relu\")(inp)\n",
        "x = tf.keras.layers.MaxPool2D(pool_size=2, strides=2)(x)\n",
        "\n",
        "x = tf.keras.layers.Conv2D(filters=256, kernel_size=(3,3), strides=(1, 1), padding='same', activation=\"relu\")(inp)\n",
        "x = tf.keras.layers.Conv2D(filters=256, kernel_size=(3,3), strides=(1, 1), padding='same', activation=\"relu\")(inp)\n",
        "x = tf.keras.layers.Conv2D(filters=256, kernel_size=(3,3), strides=(1, 1), padding='same', activation=\"relu\")(inp)\n",
        "x = tf.keras.layers.MaxPool2D(pool_size=2, strides=2)(x)\n",
        "\n",
        "x = tf.keras.layers.Conv2D(filters=512, kernel_size=(3,3), strides=(1, 1), padding='same', activation=\"relu\")(inp)\n",
        "x = tf.keras.layers.Conv2D(filters=512, kernel_size=(3,3), strides=(1, 1), padding='same', activation=\"relu\")(inp)\n",
        "x = tf.keras.layers.Conv2D(filters=512, kernel_size=(3,3), strides=(1, 1), padding='same', activation=\"relu\")(inp)\n",
        "x = tf.keras.layers.MaxPool2D(pool_size=2, strides=2)(x)\n",
        "\n",
        "x = tf.keras.layers.Conv2D(filters=512, kernel_size=(3,3), strides=(1, 1), padding='same', activation=\"relu\")(inp)\n",
        "x = tf.keras.layers.Conv2D(filters=512, kernel_size=(3,3), strides=(1, 1), padding='same', activation=\"relu\")(inp)\n",
        "x = tf.keras.layers.Conv2D(filters=512, kernel_size=(3,3), strides=(1, 1), padding='same', activation=\"relu\")(inp)\n",
        "x = tf.keras.layers.MaxPool2D(pool_size=2, strides=2)(x)\n",
        "\n",
        "x = tf.keras.layers.GlobalAveragePooling2D()(x)\n",
        "\n",
        "x = tf.keras.layers.Flatten()(x)\n",
        "x = tf.keras.layers.Dense(4096, activation=\"relu\")(x)\n",
        "#x = tf.keras.layers.Dropout(rate=0.3)(x)\n",
        "x = tf.keras.layers.Dense(4096, activation=\"relu\")(x)\n",
        "#x = tf.keras.layers.Dropout(rate=0.5)(x) #데이터 개수가 많지 않으니까 일단 빼 봄\n",
        "out = tf.keras.layers.Dense(8, activation=\"softmax\")(x) #8개 레이블로 분류, softmax로 확률값 추출\n",
        "\n",
        "model3 = tf.keras.Model(inp, out)"
      ],
      "metadata": {
        "id": "CZdV2myZWyCi"
      },
      "execution_count": null,
      "outputs": []
    },
    {
      "cell_type": "code",
      "source": [
        "model3.summary()"
      ],
      "metadata": {
        "colab": {
          "base_uri": "https://localhost:8080/"
        },
        "id": "XgZlPY19WzZZ",
        "outputId": "ca0ddb6c-18ce-4b83-eec7-a91ee671275c"
      },
      "execution_count": null,
      "outputs": [
        {
          "output_type": "stream",
          "name": "stdout",
          "text": [
            "Model: \"model_3\"\n",
            "_________________________________________________________________\n",
            " Layer (type)                Output Shape              Param #   \n",
            "=================================================================\n",
            " input_5 (InputLayer)        [(None, 224, 224, 3)]     0         \n",
            "                                                                 \n",
            " conv2d_64 (Conv2D)          (None, 224, 224, 512)     14336     \n",
            "                                                                 \n",
            " max_pooling2d_24 (MaxPoolin  (None, 112, 112, 512)    0         \n",
            " g2D)                                                            \n",
            "                                                                 \n",
            " global_average_pooling2d_4   (None, 512)              0         \n",
            " (GlobalAveragePooling2D)                                        \n",
            "                                                                 \n",
            " flatten_4 (Flatten)         (None, 512)               0         \n",
            "                                                                 \n",
            " dense_11 (Dense)            (None, 4096)              2101248   \n",
            "                                                                 \n",
            " dense_12 (Dense)            (None, 4096)              16781312  \n",
            "                                                                 \n",
            " dense_13 (Dense)            (None, 8)                 32776     \n",
            "                                                                 \n",
            "=================================================================\n",
            "Total params: 18,929,672\n",
            "Trainable params: 18,929,672\n",
            "Non-trainable params: 0\n",
            "_________________________________________________________________\n"
          ]
        }
      ]
    },
    {
      "cell_type": "code",
      "source": [
        "adam = tf.keras.optimizers.Adam(learning_rate=0.001)\n",
        "sce_loss = tf.keras.losses.SparseCategoricalCrossentropy()"
      ],
      "metadata": {
        "id": "Fagk2YIMWbuk"
      },
      "execution_count": null,
      "outputs": []
    },
    {
      "cell_type": "code",
      "source": [
        "model3.compile(\n",
        "    optimizer = adam,\n",
        "    loss = sce_loss,\n",
        "    metrics=[\"acc\"]\n",
        ")"
      ],
      "metadata": {
        "id": "9_8z8V06WbxA"
      },
      "execution_count": null,
      "outputs": []
    },
    {
      "cell_type": "code",
      "source": [
        "model3.fit(\n",
        "    aug_img, aug_label,\n",
        "    epochs=50,\n",
        "    batch_size=32,\n",
        "    validation_split=0.2\n",
        ")"
      ],
      "metadata": {
        "colab": {
          "base_uri": "https://localhost:8080/"
        },
        "id": "sfcVb6udWbzq",
        "outputId": "e98c253c-3c8d-45ec-c2a6-dccda09b338b"
      },
      "execution_count": null,
      "outputs": [
        {
          "output_type": "stream",
          "name": "stdout",
          "text": [
            "Epoch 1/50\n",
            "88/88 [==============================] - 7s 71ms/step - loss: 6.5261 - acc: 0.2614 - val_loss: 1.9092 - val_acc: 0.1788\n",
            "Epoch 2/50\n",
            "88/88 [==============================] - 6s 64ms/step - loss: 1.8630 - acc: 0.2997 - val_loss: 1.8067 - val_acc: 0.3004\n",
            "Epoch 3/50\n",
            "88/88 [==============================] - 6s 64ms/step - loss: 1.8365 - acc: 0.3126 - val_loss: 1.8643 - val_acc: 0.2890\n",
            "Epoch 4/50\n",
            "88/88 [==============================] - 6s 64ms/step - loss: 1.8104 - acc: 0.3115 - val_loss: 1.8811 - val_acc: 0.2690\n",
            "Epoch 5/50\n",
            "88/88 [==============================] - 6s 64ms/step - loss: 1.7968 - acc: 0.3165 - val_loss: 1.8233 - val_acc: 0.2489\n",
            "Epoch 6/50\n",
            "88/88 [==============================] - 6s 64ms/step - loss: 1.7846 - acc: 0.3294 - val_loss: 1.8559 - val_acc: 0.2675\n",
            "Epoch 7/50\n",
            "88/88 [==============================] - 6s 64ms/step - loss: 1.7635 - acc: 0.3298 - val_loss: 1.8238 - val_acc: 0.2761\n",
            "Epoch 8/50\n",
            "88/88 [==============================] - 6s 64ms/step - loss: 1.7790 - acc: 0.3208 - val_loss: 1.8210 - val_acc: 0.3147\n",
            "Epoch 9/50\n",
            "88/88 [==============================] - 6s 64ms/step - loss: 1.7709 - acc: 0.3140 - val_loss: 1.8291 - val_acc: 0.2890\n",
            "Epoch 10/50\n",
            "88/88 [==============================] - 6s 64ms/step - loss: 1.7179 - acc: 0.3340 - val_loss: 1.8712 - val_acc: 0.3004\n",
            "Epoch 11/50\n",
            "88/88 [==============================] - 6s 64ms/step - loss: 1.6963 - acc: 0.3455 - val_loss: 1.8340 - val_acc: 0.3119\n",
            "Epoch 12/50\n",
            "88/88 [==============================] - 6s 64ms/step - loss: 1.6950 - acc: 0.3534 - val_loss: 1.7947 - val_acc: 0.3147\n",
            "Epoch 13/50\n",
            "88/88 [==============================] - 6s 64ms/step - loss: 1.6283 - acc: 0.3645 - val_loss: 1.7485 - val_acc: 0.2718\n",
            "Epoch 14/50\n",
            "88/88 [==============================] - 6s 64ms/step - loss: 1.6137 - acc: 0.3713 - val_loss: 1.8829 - val_acc: 0.2489\n",
            "Epoch 15/50\n",
            "88/88 [==============================] - 6s 64ms/step - loss: 1.6384 - acc: 0.3688 - val_loss: 1.7373 - val_acc: 0.2933\n",
            "Epoch 16/50\n",
            "88/88 [==============================] - 6s 64ms/step - loss: 1.5835 - acc: 0.3967 - val_loss: 1.7773 - val_acc: 0.2990\n",
            "Epoch 17/50\n",
            "88/88 [==============================] - 6s 63ms/step - loss: 1.5477 - acc: 0.4049 - val_loss: 1.8069 - val_acc: 0.3076\n",
            "Epoch 18/50\n",
            "88/88 [==============================] - 6s 64ms/step - loss: 1.5205 - acc: 0.4236 - val_loss: 1.7437 - val_acc: 0.3391\n",
            "Epoch 19/50\n",
            "88/88 [==============================] - 6s 63ms/step - loss: 1.4686 - acc: 0.4418 - val_loss: 1.7306 - val_acc: 0.3405\n",
            "Epoch 20/50\n",
            "88/88 [==============================] - 6s 64ms/step - loss: 1.4046 - acc: 0.4629 - val_loss: 1.7464 - val_acc: 0.3419\n",
            "Epoch 21/50\n",
            "88/88 [==============================] - 6s 64ms/step - loss: 1.4042 - acc: 0.4694 - val_loss: 1.6087 - val_acc: 0.3577\n",
            "Epoch 22/50\n",
            "88/88 [==============================] - 6s 64ms/step - loss: 1.4683 - acc: 0.4422 - val_loss: 1.6061 - val_acc: 0.3634\n",
            "Epoch 23/50\n",
            "88/88 [==============================] - 6s 64ms/step - loss: 1.3913 - acc: 0.4837 - val_loss: 1.6664 - val_acc: 0.3534\n",
            "Epoch 24/50\n",
            "88/88 [==============================] - 6s 64ms/step - loss: 1.3210 - acc: 0.5048 - val_loss: 1.7317 - val_acc: 0.3433\n",
            "Epoch 25/50\n",
            "88/88 [==============================] - 6s 64ms/step - loss: 1.3408 - acc: 0.5041 - val_loss: 1.7211 - val_acc: 0.3319\n",
            "Epoch 26/50\n",
            "88/88 [==============================] - 6s 64ms/step - loss: 1.3029 - acc: 0.5102 - val_loss: 1.6955 - val_acc: 0.3491\n",
            "Epoch 27/50\n",
            "88/88 [==============================] - 6s 64ms/step - loss: 1.2053 - acc: 0.5560 - val_loss: 1.8159 - val_acc: 0.3705\n",
            "Epoch 28/50\n",
            "88/88 [==============================] - 6s 63ms/step - loss: 1.2627 - acc: 0.5252 - val_loss: 1.7569 - val_acc: 0.3691\n",
            "Epoch 29/50\n",
            "88/88 [==============================] - 6s 64ms/step - loss: 1.2292 - acc: 0.5431 - val_loss: 1.6175 - val_acc: 0.4163\n",
            "Epoch 30/50\n",
            "88/88 [==============================] - 6s 64ms/step - loss: 1.1836 - acc: 0.5456 - val_loss: 1.7591 - val_acc: 0.3777\n",
            "Epoch 31/50\n",
            "88/88 [==============================] - 6s 63ms/step - loss: 1.1495 - acc: 0.5664 - val_loss: 1.7068 - val_acc: 0.3491\n",
            "Epoch 32/50\n",
            "88/88 [==============================] - 6s 63ms/step - loss: 1.1717 - acc: 0.5600 - val_loss: 1.6300 - val_acc: 0.3977\n",
            "Epoch 33/50\n",
            "88/88 [==============================] - 6s 64ms/step - loss: 1.0672 - acc: 0.5947 - val_loss: 1.6752 - val_acc: 0.3634\n",
            "Epoch 34/50\n",
            "88/88 [==============================] - 6s 64ms/step - loss: 1.0298 - acc: 0.6151 - val_loss: 1.6037 - val_acc: 0.4406\n",
            "Epoch 35/50\n",
            "88/88 [==============================] - 6s 64ms/step - loss: 1.0112 - acc: 0.6155 - val_loss: 1.7730 - val_acc: 0.3820\n",
            "Epoch 36/50\n",
            "88/88 [==============================] - 6s 64ms/step - loss: 0.9661 - acc: 0.6344 - val_loss: 1.5833 - val_acc: 0.4492\n",
            "Epoch 37/50\n",
            "88/88 [==============================] - 6s 64ms/step - loss: 0.9669 - acc: 0.6373 - val_loss: 1.5853 - val_acc: 0.3977\n",
            "Epoch 38/50\n",
            "88/88 [==============================] - 6s 63ms/step - loss: 0.9213 - acc: 0.6538 - val_loss: 1.7282 - val_acc: 0.4549\n",
            "Epoch 39/50\n",
            "88/88 [==============================] - 6s 64ms/step - loss: 0.9647 - acc: 0.6352 - val_loss: 1.6991 - val_acc: 0.3891\n",
            "Epoch 40/50\n",
            "88/88 [==============================] - 6s 64ms/step - loss: 0.8805 - acc: 0.6681 - val_loss: 1.6007 - val_acc: 0.4206\n",
            "Epoch 41/50\n",
            "88/88 [==============================] - 6s 64ms/step - loss: 0.8333 - acc: 0.6917 - val_loss: 1.7200 - val_acc: 0.3991\n",
            "Epoch 42/50\n",
            "88/88 [==============================] - 6s 64ms/step - loss: 0.8541 - acc: 0.6738 - val_loss: 1.5326 - val_acc: 0.4421\n",
            "Epoch 43/50\n",
            "88/88 [==============================] - 6s 63ms/step - loss: 0.9249 - acc: 0.6513 - val_loss: 1.6811 - val_acc: 0.3863\n",
            "Epoch 44/50\n",
            "88/88 [==============================] - 6s 63ms/step - loss: 0.8304 - acc: 0.6871 - val_loss: 1.7218 - val_acc: 0.4034\n",
            "Epoch 45/50\n",
            "88/88 [==============================] - 6s 64ms/step - loss: 0.7409 - acc: 0.7136 - val_loss: 1.5782 - val_acc: 0.4363\n",
            "Epoch 46/50\n",
            "88/88 [==============================] - 6s 63ms/step - loss: 0.7190 - acc: 0.7325 - val_loss: 1.4864 - val_acc: 0.4664\n",
            "Epoch 47/50\n",
            "88/88 [==============================] - 6s 64ms/step - loss: 0.7056 - acc: 0.7376 - val_loss: 1.7661 - val_acc: 0.4549\n",
            "Epoch 48/50\n",
            "88/88 [==============================] - 6s 64ms/step - loss: 0.7189 - acc: 0.7329 - val_loss: 1.6490 - val_acc: 0.4492\n",
            "Epoch 49/50\n",
            "88/88 [==============================] - 6s 64ms/step - loss: 0.7304 - acc: 0.7315 - val_loss: 1.5554 - val_acc: 0.4835\n",
            "Epoch 50/50\n",
            "88/88 [==============================] - 6s 64ms/step - loss: 0.6710 - acc: 0.7487 - val_loss: 1.7267 - val_acc: 0.4134\n"
          ]
        },
        {
          "output_type": "execute_result",
          "data": {
            "text/plain": [
              "<keras.callbacks.History at 0x7f32e2249ad0>"
            ]
          },
          "metadata": {},
          "execution_count": 32
        }
      ]
    },
    {
      "cell_type": "code",
      "source": [
        "model3.save('vgg16trained_aug_bs32')"
      ],
      "metadata": {
        "colab": {
          "base_uri": "https://localhost:8080/"
        },
        "id": "RDE4eP39Wb3D",
        "outputId": "532fcc32-5137-4bc3-ba11-e3c6688a7284"
      },
      "execution_count": null,
      "outputs": [
        {
          "output_type": "stream",
          "name": "stderr",
          "text": [
            "WARNING:absl:Found untraced functions such as _jit_compiled_convolution_op while saving (showing 1 of 1). These functions will not be directly callable after loading.\n"
          ]
        }
      ]
    },
    {
      "cell_type": "code",
      "source": [
        "pred = model3.predict(X_test)\n",
        "pred.shape # (batch, num_class)"
      ],
      "metadata": {
        "colab": {
          "base_uri": "https://localhost:8080/"
        },
        "id": "UuuUxkK6W9iZ",
        "outputId": "1173ff59-7173-4ebb-9531-97607c798cc5"
      },
      "execution_count": null,
      "outputs": [
        {
          "output_type": "stream",
          "name": "stdout",
          "text": [
            "4/4 [==============================] - 0s 22ms/step\n"
          ]
        },
        {
          "output_type": "execute_result",
          "data": {
            "text/plain": [
              "(103, 8)"
            ]
          },
          "metadata": {},
          "execution_count": 33
        }
      ]
    },
    {
      "cell_type": "code",
      "source": [
        "from sklearn.metrics import classification_report\n",
        "print(classification_report(np.argmax(pred, axis=1), y_test))"
      ],
      "metadata": {
        "colab": {
          "base_uri": "https://localhost:8080/"
        },
        "id": "7LESCw6zW9l5",
        "outputId": "e4a3c638-f35a-4108-e32e-62267f4af4cb"
      },
      "execution_count": null,
      "outputs": [
        {
          "output_type": "stream",
          "name": "stdout",
          "text": [
            "              precision    recall  f1-score   support\n",
            "\n",
            "           0       0.24      0.24      0.24        17\n",
            "           1       0.33      0.29      0.31        17\n",
            "           2       0.00      0.00      0.00         3\n",
            "           3       0.23      0.25      0.24        12\n",
            "           4       0.28      0.26      0.27        31\n",
            "           5       0.00      0.00      0.00         8\n",
            "           6       0.00      0.00      0.00         5\n",
            "           7       0.47      0.70      0.56        10\n",
            "\n",
            "    accuracy                           0.26       103\n",
            "   macro avg       0.19      0.22      0.20       103\n",
            "weighted avg       0.25      0.26      0.25       103\n",
            "\n"
          ]
        }
      ]
    },
    {
      "cell_type": "markdown",
      "source": [
        "#### model2 train"
      ],
      "metadata": {
        "id": "me6Qd5AzB20M"
      }
    },
    {
      "cell_type": "code",
      "source": [
        "model2.compile(\n",
        "    optimizer = adam,\n",
        "    loss = sce_loss,\n",
        "    metrics=[\"acc\"]\n",
        ")"
      ],
      "metadata": {
        "id": "TNs_SvKzBWd-"
      },
      "execution_count": null,
      "outputs": []
    },
    {
      "cell_type": "code",
      "source": [
        "model2.fit(\n",
        "    X_train, y_train,\n",
        "    epochs=20,\n",
        "    batch_size=16,\n",
        "    validation_split=0.2\n",
        ")"
      ],
      "metadata": {
        "colab": {
          "base_uri": "https://localhost:8080/"
        },
        "id": "9cKu0rGMBavm",
        "outputId": "7f810815-bef1-47ac-d076-fb601bf31822"
      },
      "execution_count": null,
      "outputs": [
        {
          "output_type": "stream",
          "name": "stdout",
          "text": [
            "Epoch 1/20\n",
            "31/31 [==============================] - 4s 74ms/step - loss: 113.7734 - acc: 0.1890 - val_loss: 2.0721 - val_acc: 0.2419\n",
            "Epoch 2/20\n",
            "31/31 [==============================] - 1s 45ms/step - loss: 2.0508 - acc: 0.2907 - val_loss: 2.0509 - val_acc: 0.2419\n",
            "Epoch 3/20\n",
            "31/31 [==============================] - 1s 44ms/step - loss: 2.0458 - acc: 0.2907 - val_loss: 2.0348 - val_acc: 0.2419\n",
            "Epoch 4/20\n",
            "31/31 [==============================] - 1s 44ms/step - loss: 2.0013 - acc: 0.2866 - val_loss: 2.0225 - val_acc: 0.2419\n",
            "Epoch 5/20\n",
            "31/31 [==============================] - 1s 45ms/step - loss: 1.9802 - acc: 0.2866 - val_loss: 2.0127 - val_acc: 0.2419\n",
            "Epoch 6/20\n",
            "31/31 [==============================] - 1s 44ms/step - loss: 1.9424 - acc: 0.2947 - val_loss: 1.9985 - val_acc: 0.2419\n",
            "Epoch 7/20\n",
            "31/31 [==============================] - 1s 45ms/step - loss: 1.8833 - acc: 0.3130 - val_loss: 1.9773 - val_acc: 0.2661\n",
            "Epoch 8/20\n",
            "31/31 [==============================] - 1s 45ms/step - loss: 1.8202 - acc: 0.3455 - val_loss: 1.9787 - val_acc: 0.2500\n",
            "Epoch 9/20\n",
            "31/31 [==============================] - 1s 44ms/step - loss: 1.7691 - acc: 0.3659 - val_loss: 2.3000 - val_acc: 0.2500\n",
            "Epoch 10/20\n",
            "31/31 [==============================] - 1s 45ms/step - loss: 1.6552 - acc: 0.4126 - val_loss: 2.4422 - val_acc: 0.2500\n",
            "Epoch 11/20\n",
            "31/31 [==============================] - 1s 44ms/step - loss: 1.5323 - acc: 0.4675 - val_loss: 2.9792 - val_acc: 0.2419\n",
            "Epoch 12/20\n",
            "31/31 [==============================] - 1s 45ms/step - loss: 1.4004 - acc: 0.5203 - val_loss: 2.5932 - val_acc: 0.2419\n",
            "Epoch 13/20\n",
            "31/31 [==============================] - 1s 45ms/step - loss: 1.2508 - acc: 0.5793 - val_loss: 4.3859 - val_acc: 0.2419\n",
            "Epoch 14/20\n",
            "31/31 [==============================] - 1s 44ms/step - loss: 1.1460 - acc: 0.6179 - val_loss: 5.2730 - val_acc: 0.2823\n",
            "Epoch 15/20\n",
            "31/31 [==============================] - 1s 44ms/step - loss: 1.0397 - acc: 0.6606 - val_loss: 5.2568 - val_acc: 0.1855\n",
            "Epoch 16/20\n",
            "31/31 [==============================] - 1s 45ms/step - loss: 0.9112 - acc: 0.6951 - val_loss: 5.0238 - val_acc: 0.2016\n",
            "Epoch 17/20\n",
            "31/31 [==============================] - 1s 45ms/step - loss: 0.8829 - acc: 0.7195 - val_loss: 6.7850 - val_acc: 0.3065\n",
            "Epoch 18/20\n",
            "31/31 [==============================] - 1s 46ms/step - loss: 0.7314 - acc: 0.7581 - val_loss: 9.4560 - val_acc: 0.2500\n",
            "Epoch 19/20\n",
            "31/31 [==============================] - 1s 46ms/step - loss: 0.6493 - acc: 0.7825 - val_loss: 8.7790 - val_acc: 0.2823\n",
            "Epoch 20/20\n",
            "31/31 [==============================] - 1s 45ms/step - loss: 0.5969 - acc: 0.8008 - val_loss: 10.9085 - val_acc: 0.2500\n"
          ]
        },
        {
          "output_type": "execute_result",
          "data": {
            "text/plain": [
              "<keras.callbacks.History at 0x7f1f9f39f710>"
            ]
          },
          "metadata": {},
          "execution_count": 21
        }
      ]
    },
    {
      "cell_type": "code",
      "source": [
        "pred = model2.predict(X_test)\n",
        "pred.shape # (batch, num_class)"
      ],
      "metadata": {
        "colab": {
          "base_uri": "https://localhost:8080/"
        },
        "id": "XGLkSuJyBfd0",
        "outputId": "181f503c-372a-492d-80be-4abf036c0ef1"
      },
      "execution_count": null,
      "outputs": [
        {
          "output_type": "stream",
          "name": "stdout",
          "text": [
            "3/3 [==============================] - 1s 92ms/step\n"
          ]
        },
        {
          "output_type": "execute_result",
          "data": {
            "text/plain": [
              "(69, 8)"
            ]
          },
          "metadata": {},
          "execution_count": 23
        }
      ]
    },
    {
      "cell_type": "code",
      "source": [
        "from sklearn.metrics import classification_report\n",
        "print(classification_report(np.argmax(pred, axis=1), y_test))"
      ],
      "metadata": {
        "colab": {
          "base_uri": "https://localhost:8080/"
        },
        "id": "1LCuGEWpBu-V",
        "outputId": "2f9405f8-73dc-4c58-8efa-4f07d9f52187"
      },
      "execution_count": null,
      "outputs": [
        {
          "output_type": "stream",
          "name": "stdout",
          "text": [
            "              precision    recall  f1-score   support\n",
            "\n",
            "           0       0.32      0.30      0.31        27\n",
            "           1       0.13      0.50      0.21         4\n",
            "           2       0.00      0.00      0.00         0\n",
            "           3       0.50      0.26      0.34        27\n",
            "           4       0.45      0.38      0.41        47\n",
            "           5       0.11      0.33      0.17         3\n",
            "           6       0.00      0.00      0.00         1\n",
            "           7       0.71      0.43      0.53        28\n",
            "\n",
            "    accuracy                           0.35       137\n",
            "   macro avg       0.28      0.28      0.25       137\n",
            "weighted avg       0.47      0.35      0.39       137\n",
            "\n"
          ]
        },
        {
          "output_type": "stream",
          "name": "stderr",
          "text": [
            "/usr/local/lib/python3.7/dist-packages/sklearn/metrics/_classification.py:1318: UndefinedMetricWarning: Recall and F-score are ill-defined and being set to 0.0 in labels with no true samples. Use `zero_division` parameter to control this behavior.\n",
            "  _warn_prf(average, modifier, msg_start, len(result))\n",
            "/usr/local/lib/python3.7/dist-packages/sklearn/metrics/_classification.py:1318: UndefinedMetricWarning: Recall and F-score are ill-defined and being set to 0.0 in labels with no true samples. Use `zero_division` parameter to control this behavior.\n",
            "  _warn_prf(average, modifier, msg_start, len(result))\n",
            "/usr/local/lib/python3.7/dist-packages/sklearn/metrics/_classification.py:1318: UndefinedMetricWarning: Recall and F-score are ill-defined and being set to 0.0 in labels with no true samples. Use `zero_division` parameter to control this behavior.\n",
            "  _warn_prf(average, modifier, msg_start, len(result))\n"
          ]
        }
      ]
    }
  ],
  "metadata": {
    "colab": {
      "provenance": [],
      "collapsed_sections": [
        "9qopvmSUYIWh",
        "2eX3mKlEzKed",
        "ml3kXljxrsb3",
        "nv5UfjraBGB3",
        "AsXhbciKsTSS"
      ],
      "machine_shape": "hm"
    },
    "kernelspec": {
      "display_name": "Python 3.7.9 64-bit",
      "language": "python",
      "name": "python3"
    },
    "language_info": {
      "name": "python",
      "version": "3.7.9"
    },
    "vscode": {
      "interpreter": {
        "hash": "949777d72b0d2535278d3dc13498b2535136f6dfe0678499012e853ee9abcab1"
      }
    },
    "accelerator": "GPU",
    "gpuClass": "premium",
    "widgets": {
      "application/vnd.jupyter.widget-state+json": {
        "9238da38717b48af9aca36c171cae67f": {
          "model_module": "@jupyter-widgets/controls",
          "model_name": "HBoxModel",
          "model_module_version": "1.5.0",
          "state": {
            "_dom_classes": [],
            "_model_module": "@jupyter-widgets/controls",
            "_model_module_version": "1.5.0",
            "_model_name": "HBoxModel",
            "_view_count": null,
            "_view_module": "@jupyter-widgets/controls",
            "_view_module_version": "1.5.0",
            "_view_name": "HBoxView",
            "box_style": "",
            "children": [
              "IPY_MODEL_1b77c99e592242a1911a7932607cddfa",
              "IPY_MODEL_1db6d7232da94c7989fc961f0d3a33d3",
              "IPY_MODEL_2915ef746bca46a9b33a2afe7c418e06"
            ],
            "layout": "IPY_MODEL_93f3a09a4f65440d814de9d4db4c48db"
          }
        },
        "1b77c99e592242a1911a7932607cddfa": {
          "model_module": "@jupyter-widgets/controls",
          "model_name": "HTMLModel",
          "model_module_version": "1.5.0",
          "state": {
            "_dom_classes": [],
            "_model_module": "@jupyter-widgets/controls",
            "_model_module_version": "1.5.0",
            "_model_name": "HTMLModel",
            "_view_count": null,
            "_view_module": "@jupyter-widgets/controls",
            "_view_module_version": "1.5.0",
            "_view_name": "HTMLView",
            "description": "",
            "description_tooltip": null,
            "layout": "IPY_MODEL_231ac817032045338e189e8c89656bcc",
            "placeholder": "​",
            "style": "IPY_MODEL_8bdd62ebe40a4e0199b30c0a9f34ef22",
            "value": "100%"
          }
        },
        "1db6d7232da94c7989fc961f0d3a33d3": {
          "model_module": "@jupyter-widgets/controls",
          "model_name": "FloatProgressModel",
          "model_module_version": "1.5.0",
          "state": {
            "_dom_classes": [],
            "_model_module": "@jupyter-widgets/controls",
            "_model_module_version": "1.5.0",
            "_model_name": "FloatProgressModel",
            "_view_count": null,
            "_view_module": "@jupyter-widgets/controls",
            "_view_module_version": "1.5.0",
            "_view_name": "ProgressView",
            "bar_style": "success",
            "description": "",
            "description_tooltip": null,
            "layout": "IPY_MODEL_e249b35b30154ee2b7438212d1a09a07",
            "max": 553433881,
            "min": 0,
            "orientation": "horizontal",
            "style": "IPY_MODEL_74523357099047ba88678e283c75112b",
            "value": 553433881
          }
        },
        "2915ef746bca46a9b33a2afe7c418e06": {
          "model_module": "@jupyter-widgets/controls",
          "model_name": "HTMLModel",
          "model_module_version": "1.5.0",
          "state": {
            "_dom_classes": [],
            "_model_module": "@jupyter-widgets/controls",
            "_model_module_version": "1.5.0",
            "_model_name": "HTMLModel",
            "_view_count": null,
            "_view_module": "@jupyter-widgets/controls",
            "_view_module_version": "1.5.0",
            "_view_name": "HTMLView",
            "description": "",
            "description_tooltip": null,
            "layout": "IPY_MODEL_51140aab9c724fe6be0b8564b39abf82",
            "placeholder": "​",
            "style": "IPY_MODEL_a1100fd6f35848ea95640b44d2cb1497",
            "value": " 528M/528M [00:12&lt;00:00, 51.0MB/s]"
          }
        },
        "93f3a09a4f65440d814de9d4db4c48db": {
          "model_module": "@jupyter-widgets/base",
          "model_name": "LayoutModel",
          "model_module_version": "1.2.0",
          "state": {
            "_model_module": "@jupyter-widgets/base",
            "_model_module_version": "1.2.0",
            "_model_name": "LayoutModel",
            "_view_count": null,
            "_view_module": "@jupyter-widgets/base",
            "_view_module_version": "1.2.0",
            "_view_name": "LayoutView",
            "align_content": null,
            "align_items": null,
            "align_self": null,
            "border": null,
            "bottom": null,
            "display": null,
            "flex": null,
            "flex_flow": null,
            "grid_area": null,
            "grid_auto_columns": null,
            "grid_auto_flow": null,
            "grid_auto_rows": null,
            "grid_column": null,
            "grid_gap": null,
            "grid_row": null,
            "grid_template_areas": null,
            "grid_template_columns": null,
            "grid_template_rows": null,
            "height": null,
            "justify_content": null,
            "justify_items": null,
            "left": null,
            "margin": null,
            "max_height": null,
            "max_width": null,
            "min_height": null,
            "min_width": null,
            "object_fit": null,
            "object_position": null,
            "order": null,
            "overflow": null,
            "overflow_x": null,
            "overflow_y": null,
            "padding": null,
            "right": null,
            "top": null,
            "visibility": null,
            "width": null
          }
        },
        "231ac817032045338e189e8c89656bcc": {
          "model_module": "@jupyter-widgets/base",
          "model_name": "LayoutModel",
          "model_module_version": "1.2.0",
          "state": {
            "_model_module": "@jupyter-widgets/base",
            "_model_module_version": "1.2.0",
            "_model_name": "LayoutModel",
            "_view_count": null,
            "_view_module": "@jupyter-widgets/base",
            "_view_module_version": "1.2.0",
            "_view_name": "LayoutView",
            "align_content": null,
            "align_items": null,
            "align_self": null,
            "border": null,
            "bottom": null,
            "display": null,
            "flex": null,
            "flex_flow": null,
            "grid_area": null,
            "grid_auto_columns": null,
            "grid_auto_flow": null,
            "grid_auto_rows": null,
            "grid_column": null,
            "grid_gap": null,
            "grid_row": null,
            "grid_template_areas": null,
            "grid_template_columns": null,
            "grid_template_rows": null,
            "height": null,
            "justify_content": null,
            "justify_items": null,
            "left": null,
            "margin": null,
            "max_height": null,
            "max_width": null,
            "min_height": null,
            "min_width": null,
            "object_fit": null,
            "object_position": null,
            "order": null,
            "overflow": null,
            "overflow_x": null,
            "overflow_y": null,
            "padding": null,
            "right": null,
            "top": null,
            "visibility": null,
            "width": null
          }
        },
        "8bdd62ebe40a4e0199b30c0a9f34ef22": {
          "model_module": "@jupyter-widgets/controls",
          "model_name": "DescriptionStyleModel",
          "model_module_version": "1.5.0",
          "state": {
            "_model_module": "@jupyter-widgets/controls",
            "_model_module_version": "1.5.0",
            "_model_name": "DescriptionStyleModel",
            "_view_count": null,
            "_view_module": "@jupyter-widgets/base",
            "_view_module_version": "1.2.0",
            "_view_name": "StyleView",
            "description_width": ""
          }
        },
        "e249b35b30154ee2b7438212d1a09a07": {
          "model_module": "@jupyter-widgets/base",
          "model_name": "LayoutModel",
          "model_module_version": "1.2.0",
          "state": {
            "_model_module": "@jupyter-widgets/base",
            "_model_module_version": "1.2.0",
            "_model_name": "LayoutModel",
            "_view_count": null,
            "_view_module": "@jupyter-widgets/base",
            "_view_module_version": "1.2.0",
            "_view_name": "LayoutView",
            "align_content": null,
            "align_items": null,
            "align_self": null,
            "border": null,
            "bottom": null,
            "display": null,
            "flex": null,
            "flex_flow": null,
            "grid_area": null,
            "grid_auto_columns": null,
            "grid_auto_flow": null,
            "grid_auto_rows": null,
            "grid_column": null,
            "grid_gap": null,
            "grid_row": null,
            "grid_template_areas": null,
            "grid_template_columns": null,
            "grid_template_rows": null,
            "height": null,
            "justify_content": null,
            "justify_items": null,
            "left": null,
            "margin": null,
            "max_height": null,
            "max_width": null,
            "min_height": null,
            "min_width": null,
            "object_fit": null,
            "object_position": null,
            "order": null,
            "overflow": null,
            "overflow_x": null,
            "overflow_y": null,
            "padding": null,
            "right": null,
            "top": null,
            "visibility": null,
            "width": null
          }
        },
        "74523357099047ba88678e283c75112b": {
          "model_module": "@jupyter-widgets/controls",
          "model_name": "ProgressStyleModel",
          "model_module_version": "1.5.0",
          "state": {
            "_model_module": "@jupyter-widgets/controls",
            "_model_module_version": "1.5.0",
            "_model_name": "ProgressStyleModel",
            "_view_count": null,
            "_view_module": "@jupyter-widgets/base",
            "_view_module_version": "1.2.0",
            "_view_name": "StyleView",
            "bar_color": null,
            "description_width": ""
          }
        },
        "51140aab9c724fe6be0b8564b39abf82": {
          "model_module": "@jupyter-widgets/base",
          "model_name": "LayoutModel",
          "model_module_version": "1.2.0",
          "state": {
            "_model_module": "@jupyter-widgets/base",
            "_model_module_version": "1.2.0",
            "_model_name": "LayoutModel",
            "_view_count": null,
            "_view_module": "@jupyter-widgets/base",
            "_view_module_version": "1.2.0",
            "_view_name": "LayoutView",
            "align_content": null,
            "align_items": null,
            "align_self": null,
            "border": null,
            "bottom": null,
            "display": null,
            "flex": null,
            "flex_flow": null,
            "grid_area": null,
            "grid_auto_columns": null,
            "grid_auto_flow": null,
            "grid_auto_rows": null,
            "grid_column": null,
            "grid_gap": null,
            "grid_row": null,
            "grid_template_areas": null,
            "grid_template_columns": null,
            "grid_template_rows": null,
            "height": null,
            "justify_content": null,
            "justify_items": null,
            "left": null,
            "margin": null,
            "max_height": null,
            "max_width": null,
            "min_height": null,
            "min_width": null,
            "object_fit": null,
            "object_position": null,
            "order": null,
            "overflow": null,
            "overflow_x": null,
            "overflow_y": null,
            "padding": null,
            "right": null,
            "top": null,
            "visibility": null,
            "width": null
          }
        },
        "a1100fd6f35848ea95640b44d2cb1497": {
          "model_module": "@jupyter-widgets/controls",
          "model_name": "DescriptionStyleModel",
          "model_module_version": "1.5.0",
          "state": {
            "_model_module": "@jupyter-widgets/controls",
            "_model_module_version": "1.5.0",
            "_model_name": "DescriptionStyleModel",
            "_view_count": null,
            "_view_module": "@jupyter-widgets/base",
            "_view_module_version": "1.2.0",
            "_view_name": "StyleView",
            "description_width": ""
          }
        }
      }
    }
  },
  "nbformat": 4,
  "nbformat_minor": 0
}